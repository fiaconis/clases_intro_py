{
 "cells": [
  {
   "cell_type": "markdown",
   "metadata": {},
   "source": [
    "# <center> Clase 3 </center>\n",
    "En esta clase vamos a aprender sobre operadores, lógica Booleana,  compuertas y su aplicación en los condicionales.\n",
    "## Operadores matemáticos\n",
    "Los operadores son símbolos que hacen algo. Por ejemplo el signo \"+\" es un operador de suma. Su función es justamente sumar lo que tiene a sus lados. Esto puede ser distinto si lo que tiene a sus lados son variables strings (texto) o del tipo numerica (int, float, double, etc)\n",
    "### Suma ( + )"
   ]
  },
  {
   "cell_type": "code",
   "execution_count": 1,
   "metadata": {},
   "outputs": [
    {
     "name": "stdout",
     "output_type": "stream",
     "text": [
      "La suma de 5 + 4 es igual a 9\n",
      "La suma del float 2.0 más el int 3 da el float 5.0\n",
      "La suma de dos strings como Hola,  más Pancho. da la concatenación \"Hola, Pancho.\" \n"
     ]
    }
   ],
   "source": [
    "# Suma aplicado a enteros (int)\n",
    "a = 5\n",
    "b = 4\n",
    "suma_int = a + b\n",
    "print(f'La suma de {a} + {b} es igual a {suma_int}')\n",
    "\n",
    "#Suma aplicada a decimales (float)\n",
    "c = 2.0\n",
    "d = 3\n",
    "suma_float = c + d # suma_float va a ser una variable float porque una de las variables lo es\n",
    "print(f'La suma del float {c} más el int {d} da el float {suma_float}')\n",
    "\n",
    "#Suma aplicado a texto (strings)\n",
    "str_1 = 'Hola, '\n",
    "str_2 = 'Pancho.'\n",
    "suma_str = str_1 + str_2\n",
    "print(f'La suma de dos strings como {str_1} más {str_2} da la concatenación \"{suma_str}\" ')\n"
   ]
  },
  {
   "cell_type": "markdown",
   "metadata": {},
   "source": [
    "### Resta ( - )\n",
    "La resta funciona de una manera similar a la suma. De hecho la resta se puede definir como la suma de un número positivo más uno negativo."
   ]
  },
  {
   "cell_type": "code",
   "execution_count": 120,
   "metadata": {},
   "outputs": [
    {
     "name": "stdout",
     "output_type": "stream",
     "text": [
      "La resta de 5 - 4 es igual a 1\n",
      "La resta del float 2.0 menos el int 3 da el float -1.0\n"
     ]
    }
   ],
   "source": [
    "# Resta aplicado a enteros (int)\n",
    "a = 5\n",
    "b = 4\n",
    "resta_int = a - b\n",
    "print(f'La resta de {a} - {b} es igual a {resta_int}')\n",
    "\n",
    "# Resta aplicada a decimales (float)\n",
    "c = 2.0\n",
    "d = 3\n",
    "resta_float = c - d # resta_float va a ser una variable float porque una de las variables lo es\n",
    "print(f'La resta del float {c} menos el int {d} da el float {resta_float}')\n",
    "\n",
    "# Resta aplicado a texto (strings)\n",
    "str_1 = 'Hola, '\n",
    "str_2 = 'Pancho.'\n",
    "\n",
    "# OJO!!! esto va a dar error porque el operador resta no esta definido para los strings\n",
    "#resta_str = str_1 - str_2\n",
    "\n",
    "\n"
   ]
  },
  {
   "cell_type": "markdown",
   "metadata": {},
   "source": [
    "### Multiplicación ( * )\n",
    "Este operador suma n-veces el numero \"a\":\n",
    "    \n",
    "    mult = n*a\n",
    "\n",
    "Por ejemplo, si multiplicamos 3 x 5 sabemos que da 15 porque 5 + 5 + 5 = 15. También vale para el producto de números decimales. "
   ]
  },
  {
   "cell_type": "code",
   "execution_count": 40,
   "metadata": {},
   "outputs": [
    {
     "name": "stdout",
     "output_type": "stream",
     "text": [
      "El producto de 3 x 4 es 15\n",
      "El producto de 1.5 x 2 da el <class 'float'> 3.0\n",
      "El producto entre un numero entero 4 y el string Hola,  da \"Hola, Hola, Hola, Hola, \" que es la suma de \"Hola, \" 4 veces\n"
     ]
    }
   ],
   "source": [
    "# Producto aplicado a enteros (int)\n",
    "a = 3\n",
    "n = 5\n",
    "mult_int = n*a\n",
    "print(f'El producto de {a} x {b} es {mult_int}')\n",
    "\n",
    "# Producto aplicado a decimales (floats)\n",
    "\n",
    "b = 1.5\n",
    "c = 2\n",
    "mult_float = b*c\n",
    "print(f'El producto de {b} x {c} da el {type(mult_float)} {mult_float}')\n",
    "\n",
    "# Producto aplicado a texto (strings)\n",
    "\n",
    "str_1 = 'Hola, '\n",
    "str_2 = 'Pancho.'\n",
    "int_1 = 4\n",
    "float_1 = 1.5\n",
    "\n",
    "# El producto no esta definido para dos strings\n",
    "# prod_sxs = str_1*str_2 # Esto va a dar error\n",
    "#Tampoco esta definido para el producto de un número decimal y un string\n",
    "# prod_fxs = float_1*str_1 # Esto también va a dar error\n",
    "\n",
    "# El producto entre un string y un número entero suma el string tantas veces como el número entero\n",
    "prod_ixs = int_1*str_1\n",
    "\n",
    "print(f'El producto entre un número entero {int_1} y el string {str_1} da \"{prod_ixs}\" que es la suma de \"{str_1}\" {int_1} veces')\n"
   ]
  },
  {
   "cell_type": "markdown",
   "metadata": {},
   "source": [
    "# División ( / ), Resto ( %), 'Módulo de división' ( // ) \n"
   ]
  },
  {
   "cell_type": "code",
   "execution_count": 121,
   "metadata": {},
   "outputs": [
    {
     "name": "stdout",
     "output_type": "stream",
     "text": [
      "El cociente ( resultado de la división) entre el número 17 y 11 da 1.5454545454545454.\n",
      "El resto de la división da 6 y el módulo de la división es 6. Si dividimos 6\n",
      "por 11 nos dan los decimales del resultado 0.5454545454545454.\n",
      "Noten que por más que 17 y 11 son números enteros el resultado 1.5454545454545454 es un float.\n"
     ]
    }
   ],
   "source": [
    "a = 17\n",
    "b = 11\n",
    "resultado = a/b\n",
    "div_entera = a//b\n",
    "resto = a%b\n",
    "dec = resto/b\n",
    "texto = f'''El cociente ( resultado de la división) entre el número {a} y {b} da {resultado}.\n",
    "El resto de la división da {resto} y el módulo de la división es {mod}. Si dividimos {mod}\n",
    "por {b} nos dan los decimales del resultado {dec}.\n",
    "Noten que por más que {a} y {b} son números enteros el resultado {resultado} es un float.'''\n",
    "print(texto)"
   ]
  },
  {
   "cell_type": "markdown",
   "metadata": {},
   "source": [
    "### Potencia ( ** )\n",
    "Un número \"a\" elevado a otro número \"n\" da como resultado la multiplicación del número \"a\" n-veces.\n",
    "\n",
    "<center>$potencia = a^n$</center>\n",
    "\n",
    "<center>$potencia = 5^3= 5*5*5 = 125$</center>\n",
    "\n",
    "La radicación, por ejemplo la raiz cuadrada o cúbica, se puede poner como una potenciación de fracciones. Es decir que la raíz cuadrada de un número es ese número elevado a un medio. Así mismo la raíz cúbica de un número es ese número elevado a un tercio.\n",
    "\n",
    "<center>$\\sqrt{a} = a^{\\frac{1}{2}}$</center>\n",
    "\n",
    "<center>$\\sqrt[3]{a} = a^{\\frac{1}{3}}$</center>"
   ]
  },
  {
   "cell_type": "code",
   "execution_count": 42,
   "metadata": {},
   "outputs": [
    {
     "name": "stdout",
     "output_type": "stream",
     "text": [
      "5 elevado a la 3 da como resultado 125\n",
      "La raiz cuadrada de 4 es 2.0\n",
      "La raiz cubica de 8 es 2.0\n"
     ]
    }
   ],
   "source": [
    "a = 5\n",
    "b = 3\n",
    "pot = 5**3\n",
    "print(f'{a} elevado a la {b} da como resultado {pot}')\n",
    "\n",
    "c = 4\n",
    "raiz_cuadrada = c**(1/2)\n",
    "print(f'La raiz cuadrada de {c} es {raiz_cuadrada}')\n",
    "\n",
    "d = 8\n",
    "raiz_cubica = d**(1/3)\n",
    "print(f'La raiz cubica de {d} es {raiz_cubica}')\n",
    "      "
   ]
  },
  {
   "cell_type": "markdown",
   "metadata": {},
   "source": [
    "## Operadores de asignación\n",
    "\n",
    "Estos operadores tienen como función asignar un resultado a una variable. Por ejemplo si queremos que el valor 3 este asignado a la variable \"x\":\n",
    "\n",
    "    x = 3\n",
    "    \n",
    "Y ahora cuando le diga a la compu \"x\" esta va a interpretar que estoy hablando del numero 3.\n",
    "Muchas veces se requiere modificar el valor de una variable teniendo en cuenta el valor anterior. Por ejemplo, si queremos contar cuantas personas hay dentro de un negocio podriamos hacer un programa que cada vez que un usuario apriete un boton se sume en una unidad el valor de la variable \"personas\".\n",
    "\n",
    "    personas = personas + 1\n",
    "    \n",
    "Entonces si antes el valor de \"personas era 10, luego de esta linea va a ser 11"
   ]
  },
  {
   "cell_type": "code",
   "execution_count": 123,
   "metadata": {},
   "outputs": [
    {
     "name": "stdout",
     "output_type": "stream",
     "text": [
      "Cantidad de personas dentro del local es 10\n",
      "Cantidad de personas dentro del local es 11\n"
     ]
    }
   ],
   "source": [
    "personas = 10\n",
    "print(f'Cantidad de personas dentro del local es {personas}')\n",
    "personas = personas + 1\n",
    "print(f'Cantidad de personas dentro del local es {personas}')"
   ]
  },
  {
   "cell_type": "markdown",
   "metadata": {},
   "source": [
    "Otra manera de escribir esto de manera abreviada es:\n",
    "\n",
    "    personas += 1 "
   ]
  },
  {
   "cell_type": "code",
   "execution_count": 2,
   "metadata": {},
   "outputs": [
    {
     "name": "stdout",
     "output_type": "stream",
     "text": [
      "10\n"
     ]
    }
   ],
   "source": [
    "personas = 10\n",
    "print(personas)"
   ]
  },
  {
   "cell_type": "code",
   "execution_count": 3,
   "metadata": {},
   "outputs": [
    {
     "name": "stdout",
     "output_type": "stream",
     "text": [
      "11\n"
     ]
    }
   ],
   "source": [
    "personas = personas + 1\n",
    "print(personas)"
   ]
  },
  {
   "cell_type": "code",
   "execution_count": 4,
   "metadata": {},
   "outputs": [
    {
     "name": "stdout",
     "output_type": "stream",
     "text": [
      "12\n"
     ]
    }
   ],
   "source": [
    "personas += 1\n",
    "print(personas)"
   ]
  },
  {
   "cell_type": "code",
   "execution_count": 122,
   "metadata": {},
   "outputs": [
    {
     "name": "stdout",
     "output_type": "stream",
     "text": [
      "Cantidad de personas dentro del local es 10\n",
      "Cantidad de personas dentro del local es 11\n"
     ]
    }
   ],
   "source": [
    "personas = 10\n",
    "print(f'Cantidad de personas dentro del local es {personas}')\n",
    "personas += 1\n",
    "print(f'Cantidad de personas dentro del local es {personas}')"
   ]
  },
  {
   "cell_type": "markdown",
   "metadata": {},
   "source": [
    "De la misma manera se pueden abreviar otros operadores."
   ]
  },
  {
   "cell_type": "code",
   "execution_count": 124,
   "metadata": {},
   "outputs": [
    {
     "name": "stdout",
     "output_type": "stream",
     "text": [
      "suma = 5\n",
      "suma + 3 = 8\n",
      "\n",
      "resta = 7\n",
      "resta - 2  = 5\n",
      "\n",
      "producto = 2\n",
      "producto x 4 = 8\n",
      "\n",
      "cociente = 10\n",
      "cociente dividido 2 = 5.0\n"
     ]
    }
   ],
   "source": [
    "suma = 5\n",
    "print(f'suma = {suma}')\n",
    "suma += 3\n",
    "print(f'suma + 3 = {suma}')\n",
    "print('')\n",
    "resta = 7\n",
    "print(f'resta = {resta}')\n",
    "resta -= 2\n",
    "print(f'resta - 2  = {resta}')\n",
    "print('')\n",
    "producto = 2\n",
    "print(f'producto = {producto}')\n",
    "producto *= 4\n",
    "print(f'producto x 4 = {producto}')\n",
    "print('')\n",
    "cociente = 10\n",
    "print(f'cociente = {cociente}')\n",
    "cociente /= 2\n",
    "print(f'cociente dividido 2 = {cociente}')\n",
    "      "
   ]
  },
  {
   "cell_type": "markdown",
   "metadata": {},
   "source": [
    "## Operadores de comparación\n",
    "Estos operadores de comparación tienen como respuesta \"verdadero\" o \"falso\". Si queremos comparar la altura de dos personas podemos comparar la altura de una persona con la otra y preguntar por ejemplo si es la primera es mayora que la segunda. Esto lo hacemos con los signos \">\" o \"<\". Pero vamos a ver todos estos operadores de a uno. \n",
    "\n",
    "### Operador igual ( == )"
   ]
  },
  {
   "cell_type": "code",
   "execution_count": 73,
   "metadata": {},
   "outputs": [
    {
     "name": "stdout",
     "output_type": "stream",
     "text": [
      "Comparar numeros\n",
      "\"a\"(5) es igual a \"b\"(5)? True\n",
      "\"a\"(5) es igual a \"c\"(3)? False\n",
      "\"c\"(3) es igual a \"d\"(3.0)? True\n",
      "\n",
      "Comparacion de strings\n",
      "\"s1\"(hola) es igual a \"s2\"(hola)? True\"\n",
      "\"s1\"(hola) es igual a \"s3\"(Hola)? False\"\n"
     ]
    }
   ],
   "source": [
    "a = 5\n",
    "b = 5\n",
    "c = 3\n",
    "d = 3.0\n",
    "s1 = 'hola'\n",
    "s2 = 'hola'\n",
    "s3 = 'Hola'\n",
    "print('Comparar numeros')\n",
    "print(f'\"a\"({a}) es igual a \"b\"({b})? {a == b}')\n",
    "print(f'\"a\"({a}) es igual a \"c\"({c})? {a == c}')\n",
    "print(f'\"c\"({c}) es igual a \"d\"({d})? {c == d}')\n",
    "print('')\n",
    "print('Comparacion de strings')\n",
    "print(f'\"s1\"({s1}) es igual a \"s2\"({s2})? {s1 == s2}\"')\n",
    "print(f'\"s1\"({s1}) es igual a \"s3\"({s3})? {s1 == s3}\"') # Python es sensible a las mayusculas\n"
   ]
  },
  {
   "cell_type": "markdown",
   "metadata": {},
   "source": [
    "### Operador 'no igual' o 'diferente' ( != ) \n"
   ]
  },
  {
   "cell_type": "code",
   "execution_count": 74,
   "metadata": {},
   "outputs": [
    {
     "name": "stdout",
     "output_type": "stream",
     "text": [
      "Comparar numeros\n",
      "\"a\"(5) es diferente a \"b\"(5)? False\n",
      "\"a\"(5) es diferente a \"c\"(3)? True\n",
      "\"c\"(3) es diferente a \"d\"(3.0)? False\n",
      "\n",
      "Comparacion de strings\n",
      "\"s1\"(hola) es diferente a \"s2\"(hola)? False\"\n",
      "\"s1\"(hola) es diferente a \"s3\"(Hola)? True\"\n"
     ]
    }
   ],
   "source": [
    "a = 5\n",
    "b = 5\n",
    "c = 3\n",
    "d = 3.0\n",
    "s1 = 'hola'\n",
    "s2 = 'hola'\n",
    "s3 = 'Hola'\n",
    "print('Comparar numeros')\n",
    "print(f'\"a\"({a}) es diferente a \"b\"({b})? {a != b}')\n",
    "print(f'\"a\"({a}) es diferente a \"c\"({c})? {a != c}')\n",
    "print(f'\"c\"({c}) es diferente a \"d\"({d})? {c != d}')\n",
    "print('')\n",
    "print('Comparacion de strings')\n",
    "print(f'\"s1\"({s1}) es diferente a \"s2\"({s2})? {s1 != s2}\"')\n",
    "print(f'\"s1\"({s1}) es diferente a \"s3\"({s3})? {s1 != s3}\"') # Python es sensible a las mayusculas\n"
   ]
  },
  {
   "cell_type": "markdown",
   "metadata": {},
   "source": [
    "### Operadores mayor y menor ( > y < )\n",
    "Como regla nemotecnica acuerdense que la parte abierta de la boca en el simbolo > apunta al mayor"
   ]
  },
  {
   "cell_type": "code",
   "execution_count": 79,
   "metadata": {},
   "outputs": [
    {
     "name": "stdout",
     "output_type": "stream",
     "text": [
      "a(2) > b(5) -> False\n",
      "a(2) < b(5) -> True\n"
     ]
    }
   ],
   "source": [
    "a = 2\n",
    "b = 5\n",
    "print(f'a({a}) > b({b}) -> {a > b}')\n",
    "print(f'a({a}) < b({b}) -> {a < b}')"
   ]
  },
  {
   "cell_type": "markdown",
   "metadata": {},
   "source": [
    "### Operadores de mayor igual y menor igual ( >= y <= )"
   ]
  },
  {
   "cell_type": "code",
   "execution_count": 85,
   "metadata": {},
   "outputs": [
    {
     "name": "stdout",
     "output_type": "stream",
     "text": [
      "a(5) >= b(5) -> True\n",
      "a(5) >= c(6) -> False\n",
      "a(5) >= d(4) -> True\n",
      "\n",
      "a(5) <= b(5) -> True\n",
      "a(5) <= c(6) -> True\n",
      "a(5) <= d(4) -> False\n"
     ]
    }
   ],
   "source": [
    "a = 5\n",
    "b = 5\n",
    "c = 6\n",
    "d = 4\n",
    "print(f'a({a}) >= b({b}) -> {a >= b}')\n",
    "print(f'a({a}) >= c({c}) -> {a >= c}')\n",
    "print(f'a({a}) >= d({d}) -> {a >= d}')\n",
    "print('')\n",
    "print(f'a({a}) <= b({b}) -> {a <= b}')\n",
    "print(f'a({a}) <= c({c}) -> {a <= c}')\n",
    "print(f'a({a}) <= d({d}) -> {a <= d}')"
   ]
  },
  {
   "cell_type": "markdown",
   "metadata": {},
   "source": [
    "## Operadores de identidad ( \"is\" y \"is not\")\n",
    "Estos operadores son similares a \"==\" y a \"!=\", pero con una pequeña diferencia. Lo que compara es la variable como un objeto. Entonces 3 es muy diferente a 3.0. Con \"==\" da True, pero con \"is\" es diferente porque un valor es int y el otro es un float y esto los hace objetos (no números) diferentes."
   ]
  },
  {
   "cell_type": "code",
   "execution_count": 94,
   "metadata": {},
   "outputs": [
    {
     "name": "stdout",
     "output_type": "stream",
     "text": [
      "Operador \"is\"\n",
      "\"algo\" is \"algo\"? True\n",
      "\"algo\" is \"Algo\"? False\n",
      "3 is 3? True\n",
      "3 is 3.0? False\n",
      "3 is 4? False\n",
      "\n",
      "Operador \"is not\"\n",
      "\"algo\" is not \"algo\"? False\n",
      "\"algo\" is not \"Algo\"? True\n",
      "3 is not 3? False\n",
      "3 is not 3.0? True\n",
      "3 is not 4? True\n"
     ]
    }
   ],
   "source": [
    "x = 'algo'\n",
    "y = 'algo'\n",
    "z = 'Algo'\n",
    "\n",
    "a = 3\n",
    "b = 3\n",
    "c = 3.0\n",
    "d = 4\n",
    "\n",
    "print('Operador \"is\"')\n",
    "print(f'\"{x}\" is \"{y}\"? {x is y}')\n",
    "print(f'\"{x}\" is \"{z}\"? {x is z}')\n",
    "print(f'{a} is {b}? {a is b}')\n",
    "print(f'{a} is {c}? {a is c}')\n",
    "print(f'{a} is {d}? {a is d}')\n",
    "print('')\n",
    "print('Operador \"is not\"')\n",
    "print(f'\"{x}\" is not \"{y}\"? {x is not y}')\n",
    "print(f'\"{x}\" is not \"{z}\"? {x is not z}')\n",
    "print(f'{a} is not {b}? {a is not b}')\n",
    "print(f'{a} is not {c}? {a is not c}')\n",
    "print(f'{a} is not {d}? {a is not d}')\n"
   ]
  },
  {
   "cell_type": "code",
   "execution_count": null,
   "metadata": {},
   "outputs": [],
   "source": []
  },
  {
   "cell_type": "markdown",
   "metadata": {},
   "source": [
    "## Operadores de \"membresia\". Ni idea por qué se llaman así. ( \"in\"  y \"not in\")\n",
    "Estos operadores se utilizan para saber si un elemento esta dentro de otro. Lo vamos a usar más adelante cuando veamos \"listas\", pero tambien se pueden utilizar en strings. Por ejemplo si quiero saber si mi nombre esta en un texto."
   ]
  },
  {
   "cell_type": "code",
   "execution_count": 100,
   "metadata": {},
   "outputs": [
    {
     "name": "stdout",
     "output_type": "stream",
     "text": [
      "La palabra \"Pancho\" esta dentro del texto \"Hola, mi nombre es Pancho\"? True\n",
      "La palabra \"Carlos\" esta dentro del texto \"Hola, mi nombre es Pancho\"? False\n",
      "La palabra \"Carolina\" NO esta dentro del texto \"Hola, mi nombre es Pancho\"? True\n"
     ]
    }
   ],
   "source": [
    "str1 = 'Hola, mi nombre es Pancho'\n",
    "str2 = 'Pancho'\n",
    "str3 = 'Carlos'\n",
    "str4 = 'Carolina'\n",
    "\n",
    "print(f'La palabra \"{str2}\" esta dentro del texto \"{str1}\"? {str2 in str1}')\n",
    "print(f'La palabra \"{str3}\" esta dentro del texto \"{str1}\"? {str3 in str1}')\n",
    "print(f'La palabra \"{str4}\" NO esta dentro del texto \"{str1}\"? {str4 not in str1}')\n"
   ]
  },
  {
   "cell_type": "markdown",
   "metadata": {},
   "source": [
    "## Operadores logicos. Lógica de Boole"
   ]
  },
  {
   "cell_type": "markdown",
   "metadata": {},
   "source": [
    "La logica booleana se basa en dos elementos fundamentales \"Verdadero\" y \"Falso\". Como estas palabras son largas para escribir cada vez que tenemos que referirnos a ellas a veces se suelen usar los números cero para referirnos a algo falso y uno para referirnos a algo verdadero.\n",
    "Entonces estos operadores se pueden aplicar a cosas que tienen dos posibles estados, 1 (verdadero) o 0 (falso). Las operaciones fundamentales son tres, OR, AND y NOT. Para entender lo que hacen hay que estudiar sus \"tablas de verdad\"\n",
    "\n",
    "### OR (\"o\" en en inglés)\n",
    "Si tengo dos variables booleanas (que pueden ser verdadero o falso) y una \"o\" la otra es verdadera, el operador va a dar como resultado verdadero.\n",
    "\n",
    "| Entradas | | | Salida |\n",
    "|-|-|-|-|\n",
    "|A|B|||\n",
    "|0|0||0|\n",
    "|0|1||1|\n",
    "|1|0||1|\n",
    "|1|1||1|"
   ]
  },
  {
   "cell_type": "code",
   "execution_count": 125,
   "metadata": {},
   "outputs": [
    {
     "name": "stdout",
     "output_type": "stream",
     "text": [
      "False or False = False\n",
      "False or True = True\n",
      "True or False = True\n",
      "True or True = True\n"
     ]
    }
   ],
   "source": [
    "a = True # True es \"verdadero\" en inglés\n",
    "b = False  # False es \"falso\" en inglés\n",
    "\n",
    "print (f'{b} or {b} = {b or b}')\n",
    "print (f'{b} or {a} = {b or a}')\n",
    "print (f'{a} or {b} = {a or b}')\n",
    "print (f'{a} or {a} = {a or a}')\n"
   ]
  },
  {
   "cell_type": "markdown",
   "metadata": {},
   "source": [
    "### AND ( \"y\" en inglés).\n",
    "Si tengo dos variables booleanas **Y** ambas son verdaderas el resultado de este operador va a ser verdadero, caso contrario da como resultado \"falso\".\n",
    "    \n",
    "| Entradas |  | Salida |\n",
    "|:-:|:-:|:-:|\n",
    "|A|B||\n",
    "|0|0|0|\n",
    "|0|1|0|\n",
    "|1|0|0|\n",
    "|1|1|1|\n",
    "    \n"
   ]
  },
  {
   "cell_type": "code",
   "execution_count": 107,
   "metadata": {},
   "outputs": [
    {
     "name": "stdout",
     "output_type": "stream",
     "text": [
      "False and False = False\n",
      "False and True = False\n",
      "True and False = False\n",
      "True and True = True\n"
     ]
    }
   ],
   "source": [
    "a = True #True es \"verdadero\" en ingles\n",
    "b = False  #False es falso en ingles\n",
    "\n",
    "print (f'{b} and {b} = {b and b}')\n",
    "print (f'{b} and {a} = {b and a}')\n",
    "print (f'{a} and {b} = {a and b}')\n",
    "print (f'{a} and {a} = {a and a}')\n"
   ]
  },
  {
   "cell_type": "markdown",
   "metadata": {},
   "source": [
    "### NOT ( negación en inglés)\n",
    "Este operador lo que hace es convertir un verdadero en un falso y un falso en un verdadero.\n",
    "\n",
    "| Entrada | | Salida |\n",
    "|:-:|:-:|:-:|\n",
    "|0||1|\n",
    "|1||0|"
   ]
  },
  {
   "cell_type": "code",
   "execution_count": 126,
   "metadata": {},
   "outputs": [
    {
     "name": "stdout",
     "output_type": "stream",
     "text": [
      "NOT True = False\n",
      "NOT False = True\n"
     ]
    }
   ],
   "source": [
    "a = True\n",
    "b = False\n",
    "print(f'NOT {a} = {not a}')\n",
    "print(f'NOT {b} = {not b}')"
   ]
  },
  {
   "cell_type": "markdown",
   "metadata": {},
   "source": [
    "## Condicionales. If, else y elif.\n",
    "\n",
    "Cuando vimos algoritmos en la primera clase había un bloque fundamental que consistía en hacer una pregunta cuya respuesta era \"sí\" o \"no\", o su equivalente \"Verdadero\" o \"Falso\". Por ejemplo, en el algoritmo del sistema de entrada a un boliche, alguien preguntaba la edad de una persona y SI era mayor de 18 años lo dejaba pasar y si era menor no."
   ]
  },
  {
   "cell_type": "code",
   "execution_count": 7,
   "metadata": {},
   "outputs": [
    {
     "name": "stdout",
     "output_type": "stream",
     "text": [
      "Edad: 15\n"
     ]
    }
   ],
   "source": [
    "edad = int(input('Edad: '))\n",
    "if edad >= 18:\n",
    "    print('Pasa nomas')"
   ]
  },
  {
   "cell_type": "markdown",
   "metadata": {},
   "source": [
    "Todo lo que este a la derecha del if tiene que ser algo cuyo resultado sea un booleano. Luego va \":\". La siguiente linea tiene que estar \"indexada\", esto es un \"tab\" o cuatro espacios. Esto es muy importante porque de esta manera el enano que sabe python que vive dentro de la compu va a entender que todo lo que tenga un tab debajo del \"if\" se va a ejecutar si la condición del if es True.\n",
    "Si queremos que pase algo en caso de que la condición sea falsa podemos utilizar el \"else\" cuya traducción burda seria \"si no\"."
   ]
  },
  {
   "cell_type": "code",
   "execution_count": null,
   "metadata": {},
   "outputs": [],
   "source": [
    "edad = int(input('Edad: '))\n",
    "if edad >= 18: # Si la edad es mayor o igual a 18:\n",
    "    print('Pasa nomas')\n",
    "else: # Si no es mayor a 18:\n",
    "    print('Volve a tu casa o llamo a tus padres')"
   ]
  },
  {
   "cell_type": "markdown",
   "metadata": {},
   "source": [
    "Ahora supongamos que en nuestro ejemplo el chango de seguridad esta obligado a llamar a la policía si el menor tiene menos de 16 años. En este caso hay un comando intermedio que se llama \"elif\". Esto es la abreviatura de \"else if\" y su traducción ya pierde un poco de sentido ya que seria algo asi como \"Si no pasa algo, pero si pasa esto otro...\"."
   ]
  },
  {
   "cell_type": "code",
   "execution_count": null,
   "metadata": {},
   "outputs": [],
   "source": [
    "edad = int(input('Edad: '))\n",
    "if edad >= 18:\n",
    "    print('Pasa nomas')\n",
    "elif edad < 16:\n",
    "    print('Aguantame acá que tengo que llamar a la policía')\n",
    "else:\n",
    "    print('Volve a tu casa o llamo a tus padres')"
   ]
  },
  {
   "cell_type": "markdown",
   "metadata": {},
   "source": [
    "Entre los if y los else pueden ir tantos elif como ustedes quieran. Incluso dentro de los if pueden ir otros if. Esto se llaman if anidados.\n",
    "Abajo voy a hacer un ejemplo donde si hay un menor de 16 años que quiere entrar al boliche y hace mucho frio lo tiene que dejar pasar a un lugar calefaccionado hasta que venga la policia a buscarlo "
   ]
  },
  {
   "cell_type": "code",
   "execution_count": null,
   "metadata": {},
   "outputs": [],
   "source": [
    "edad = int(input('Edad: '))\n",
    "temperatura = input('Temperatura (ºC): ')\n",
    "if edad >= 18:\n",
    "    print('Podes entrar')\n",
    "elif ((edad >= 16) and (edad< 18)): # Aca los parentesis pueden no estar. Solo los pongo para esclarecer\n",
    "    print('Vos acá no entras')\n",
    "else:\n",
    "    if temperatura < 10:\n",
    "        print('Veni, entra acá a esperar a la policía porque hace mucho frío')\n",
    "    else:\n",
    "        print('Espera acá afuera a que venga la policía')"
   ]
  },
  {
   "cell_type": "markdown",
   "metadata": {},
   "source": [
    "# Algunos ejemplos para aplicar\n",
    "\n",
    "1. Con la pandemia se perdieron todos los papeles de un colegio y se decidio empezar desde cero y ubicar a los chicos en los años escolares que correspondan a su edad. Del consejo escolar les pidieron que hagan un código que tenga como entrada la edad de un chico/a y le responda el año al que le corresponde. Para simplificar el problema suponer que en 1º grado entran todos los de 5 años y en 2º grado todos los de 6 años y asi hasta séptimo grado.\n",
    "2. Para complejizar el problema hay que tener en cuenta qué pasa si el usuario introduce una edad menor a 5 años o mayor a 11. Cuando la edad sea menor a 5 años el programa tiene que avisar que el niño o niña tiene que ir al jardín de infantes. Y cuando la edad sea mayor que tiene que ir al secundario.\n",
    "3. Vayamos más adelante y completemos el código teniendo en cuenta a los adolescentes de la secuntaria. La secundaria consta de 7 años donde en el primero vamos a mandar a los chicos de 12 años y a septimo a los de 18. En este problema vamos a tener que aclarar si el año escolar es de primaria o secundaria en la respuesta."
   ]
  },
  {
   "cell_type": "code",
   "execution_count": 135,
   "metadata": {},
   "outputs": [
    {
     "name": "stdout",
     "output_type": "stream",
     "text": [
      "Edad: 11\n",
      "Tiene que ir a 7º\n"
     ]
    }
   ],
   "source": [
    "# problema 1\n",
    "\n",
    "edad = int(input('Edad: '))\n",
    "if edad >= 5 and edad < 12:\n",
    "    print(f'Tiene que ir a {edad-4}º')"
   ]
  },
  {
   "cell_type": "code",
   "execution_count": 131,
   "metadata": {},
   "outputs": [
    {
     "name": "stdout",
     "output_type": "stream",
     "text": [
      "Edad: 5\n"
     ]
    }
   ],
   "source": [
    "# problema 2\n",
    "edad = int(input('Edad: '))\n",
    "if edad >= 5 and edad < 12:\n",
    "    print(f'Tiene que ir a {edad-4}º')\n",
    "elif edad < 5:\n",
    "    print('Tiene que ir al jardin de infantes')\n",
    "elif edad >= 12:\n",
    "    print('Tiene que ir al secundario')"
   ]
  },
  {
   "cell_type": "code",
   "execution_count": 145,
   "metadata": {},
   "outputs": [
    {
     "name": "stdout",
     "output_type": "stream",
     "text": [
      "Edad: 25\n",
      "¡Felicidades, terminaste la escolaridad!\n"
     ]
    }
   ],
   "source": [
    "# Problema 3\n",
    "edad = int(input('Edad: '))\n",
    "if edad >= 5 and edad < 12:\n",
    "    print(f'Tiene que ir a {edad-4}º del Primario')\n",
    "elif edad < 5:\n",
    "    print('Tiene que ir al jardin de infantes')\n",
    "elif edad >= 12 and edad < 19:\n",
    "    print(f'Tiene que ir al {edad-11}º del Secundario')\n",
    "else:\n",
    "    print('¡Felicidades, terminaste la escolaridad!')"
   ]
  }
 ],
 "metadata": {
  "kernelspec": {
   "display_name": "Python 3",
   "language": "python",
   "name": "python3"
  },
  "language_info": {
   "codemirror_mode": {
    "name": "ipython",
    "version": 3
   },
   "file_extension": ".py",
   "mimetype": "text/x-python",
   "name": "python",
   "nbconvert_exporter": "python",
   "pygments_lexer": "ipython3",
   "version": "3.8.4"
  }
 },
 "nbformat": 4,
 "nbformat_minor": 4
}
