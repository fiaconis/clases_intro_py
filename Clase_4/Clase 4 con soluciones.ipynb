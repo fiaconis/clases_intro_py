{
 "cells": [
  {
   "cell_type": "markdown",
   "metadata": {},
   "source": [
    "# <center> Clase 4 </center>\n"
   ]
  },
  {
   "cell_type": "markdown",
   "metadata": {},
   "source": [
    "## Listas\n",
    "Las listas son un conjunto ordenado de \"cosas\". Se utilizan para guardar múltiples datos en una sola variable. Estos datos pueden ser de cualquier índole.\n",
    "Una lista se crea con corchetes y cada elemento separado por una coma."
   ]
  },
  {
   "cell_type": "code",
   "execution_count": 249,
   "metadata": {},
   "outputs": [],
   "source": [
    "lista = [0,1,2,'texto',1.2, True]"
   ]
  },
  {
   "cell_type": "markdown",
   "metadata": {},
   "source": [
    "Para contar la cantidad de elementos de la lista podemos usar la función len()"
   ]
  },
  {
   "cell_type": "code",
   "execution_count": 250,
   "metadata": {},
   "outputs": [
    {
     "data": {
      "text/plain": [
       "6"
      ]
     },
     "execution_count": 250,
     "metadata": {},
     "output_type": "execute_result"
    }
   ],
   "source": [
    "len(lista)"
   ]
  },
  {
   "cell_type": "markdown",
   "metadata": {},
   "source": [
    "### Acceso a cada ítem\n",
    "Cada dato, o elemento, en una lista se llama ítem. Se puede acceder a cada ítem en una lista según su posición en la misma. Ojo, tener en cuenta que la primera posición es la posición 0 y la segunda es la posición 1 y así."
   ]
  },
  {
   "cell_type": "code",
   "execution_count": 95,
   "metadata": {},
   "outputs": [
    {
     "name": "stdout",
     "output_type": "stream",
     "text": [
      "texto\n"
     ]
    }
   ],
   "source": [
    "pos_lista = 3\n",
    "print(lista[pos_lista])\n",
    "#print(f'El primer item de la lista es \"{lista[0]}\" y el cuarto item es \"{lista[3]}\"')"
   ]
  },
  {
   "cell_type": "markdown",
   "metadata": {},
   "source": [
    "Si quisiéramos acceder al último ítem sin saber el largo de la lista podríamos acceder a la posición \"-1\". De esta manera la anteultima posición sería la \"-2\" y así."
   ]
  },
  {
   "cell_type": "code",
   "execution_count": 96,
   "metadata": {},
   "outputs": [
    {
     "name": "stdout",
     "output_type": "stream",
     "text": [
      "True\n",
      "1.2\n"
     ]
    }
   ],
   "source": [
    "print(lista[-1])\n",
    "print(lista[-2])"
   ]
  },
  {
   "cell_type": "markdown",
   "metadata": {},
   "source": [
    "Y si quisiéramos algunos valores, digamos los valores que estan desde el tercer elemento (posición \"2\") hasta el sexto elemento (posición \"5\"):\n"
   ]
  },
  {
   "cell_type": "code",
   "execution_count": 97,
   "metadata": {},
   "outputs": [
    {
     "name": "stdout",
     "output_type": "stream",
     "text": [
      "[2, 'texto', 1.2]\n"
     ]
    }
   ],
   "source": [
    "print(lista[2:5])"
   ]
  },
  {
   "cell_type": "markdown",
   "metadata": {},
   "source": [
    "Si lo que quisiéramos son los primeros, o los últimos 3 elementos tendríamos que escribir:\n"
   ]
  },
  {
   "cell_type": "code",
   "execution_count": 98,
   "metadata": {},
   "outputs": [
    {
     "name": "stdout",
     "output_type": "stream",
     "text": [
      "[0, 1, 2]\n",
      "['texto', 1.2, True]\n"
     ]
    }
   ],
   "source": [
    "print(lista[:3]) # primeros 5 elementos\n",
    "print(lista[-3:]) #ultimos 5 elementos"
   ]
  },
  {
   "cell_type": "markdown",
   "metadata": {},
   "source": [
    "### Posición de un elemento\n",
    "A veces se necesita saber la posición de un elemento en una lista. La posición se suele llamar índice y en inglés índice es index. Entonces la función se escribe así:\n",
    "\n",
    "    posicion = lista.index(elemento)"
   ]
  },
  {
   "cell_type": "code",
   "execution_count": 184,
   "metadata": {},
   "outputs": [
    {
     "name": "stdout",
     "output_type": "stream",
     "text": [
      "4\n",
      "1.2\n"
     ]
    }
   ],
   "source": [
    "pos = lista.index(1.2)\n",
    "print(pos)\n",
    "print(lista[pos])"
   ]
  },
  {
   "cell_type": "raw",
   "metadata": {},
   "source": []
  },
  {
   "cell_type": "markdown",
   "metadata": {},
   "source": [
    "### \"in\" y \"not in\" en listas\n",
    "El comando \"in\" se utiliza para saber si un elemento esta dentro de una lista y \"not in\" para saber si un elemento no esta dentro de la lista"
   ]
  },
  {
   "cell_type": "code",
   "execution_count": 251,
   "metadata": {},
   "outputs": [
    {
     "name": "stdout",
     "output_type": "stream",
     "text": [
      "El número 14 esta en la lista? False\n",
      "La palabra \"texto\" esta en la lista? True\n"
     ]
    }
   ],
   "source": [
    "print('El número 14 esta en la lista?', 14 in lista)\n",
    "print('La palabra \"texto\" esta en la lista?',\"texto\" in lista)"
   ]
  },
  {
   "cell_type": "code",
   "execution_count": 252,
   "metadata": {},
   "outputs": [
    {
     "name": "stdout",
     "output_type": "stream",
     "text": [
      "El número 14 NO esta en la lista? True\n",
      "La palabra \"texto\" NO esta en la lista? False\n"
     ]
    }
   ],
   "source": [
    "print('El número 14 NO esta en la lista?', 14 not in lista)\n",
    "print('La palabra \"texto\" NO esta en la lista?',\"texto\" not in lista)"
   ]
  },
  {
   "cell_type": "markdown",
   "metadata": {},
   "source": [
    "### Cambiar/insertar/agregar algun elemento de la lista\n",
    "Para cambiar algun elemento de una lista hay que redefinirlo. Por ejemplo si queremos cambiar el tercer elemento de nuestra lista (posición \"2\") escribimos:"
   ]
  },
  {
   "cell_type": "code",
   "execution_count": 101,
   "metadata": {},
   "outputs": [
    {
     "name": "stdout",
     "output_type": "stream",
     "text": [
      "[0, 1, 'elemento cambiado', 'texto', 1.2, True]\n"
     ]
    }
   ],
   "source": [
    "lista[2] = \"elemento cambiado\" # Aca podria haber ido cualquier cosa,un int, un float, un bool, o como en este caso, un string\n",
    "print(lista)"
   ]
  },
  {
   "cell_type": "markdown",
   "metadata": {},
   "source": [
    "Si quisiéramos cambiar varios elementos a la vez para reemplazarlo por, por ejemplo, un cero:"
   ]
  },
  {
   "cell_type": "code",
   "execution_count": 102,
   "metadata": {},
   "outputs": [
    {
     "name": "stdout",
     "output_type": "stream",
     "text": [
      "[0, 0, 0, 'elemento cambiado', 'texto', 1.2, True]\n"
     ]
    }
   ],
   "source": [
    "lista[0:2] = [0,0,0]\n",
    "print(lista)"
   ]
  },
  {
   "cell_type": "markdown",
   "metadata": {},
   "source": [
    "Ahora si queremos insertar un nuevo elemento podemos usar el comando insert:\n",
    "\n",
    "    lista.insert(posicion_del_elemento_nuevo, elemento a insertar)"
   ]
  },
  {
   "cell_type": "code",
   "execution_count": 103,
   "metadata": {},
   "outputs": [
    {
     "name": "stdout",
     "output_type": "stream",
     "text": [
      "[0, 'Elemento insertado', 0, 0, 'elemento cambiado', 'texto', 1.2, True]\n"
     ]
    }
   ],
   "source": [
    "lista.insert(1,'Elemento insertado')# agrego un elemento en la posicion \"1\")\n",
    "print(lista)"
   ]
  },
  {
   "cell_type": "markdown",
   "metadata": {},
   "source": [
    "Ahora supongan que tenemos una lista de alumnos y viene uno nuevo. Para agregar a este nuevo alumno podemos usar insert para colocar su nombre en algun lugar especifico de la lista o podemos usar el comando append para agregarlo en la última posición:\n"
   ]
  },
  {
   "cell_type": "code",
   "execution_count": 104,
   "metadata": {},
   "outputs": [
    {
     "name": "stdout",
     "output_type": "stream",
     "text": [
      "[0, 'Elemento insertado', 0, 0, 'elemento cambiado', 'texto', 1.2, True, 'Elemento apendizado']\n"
     ]
    }
   ],
   "source": [
    "lista.append('Elemento apendizado')\n",
    "print(lista)"
   ]
  },
  {
   "cell_type": "markdown",
   "metadata": {},
   "source": [
    "Ahora se enteran que hay recorte presupuestario y se van a unir dos cursos. Para crear una lista a partir de la concatenación de dos listas se puede utilizar el comando extend"
   ]
  },
  {
   "cell_type": "code",
   "execution_count": 105,
   "metadata": {},
   "outputs": [
    {
     "name": "stdout",
     "output_type": "stream",
     "text": [
      "['alumno 1', 'alumno 2', 'alumno 3', 'alumno 4', 'alumno 5', 'alumno 6', 'alumno 7', 'alumno 8']\n"
     ]
    }
   ],
   "source": [
    "lista_1 = ['alumno 1','alumno 2','alumno 3','alumno 4']\n",
    "lista_2 = ['alumno 5','alumno 6','alumno 7','alumno 8']\n",
    "lista_1.extend(lista_2)\n",
    "print(lista_1)"
   ]
  },
  {
   "cell_type": "markdown",
   "metadata": {},
   "source": [
    "El operador suma hace lo mismo que extend, pero no guarda el resultado de la suma en la variable lista_1."
   ]
  },
  {
   "cell_type": "code",
   "execution_count": 106,
   "metadata": {},
   "outputs": [
    {
     "name": "stdout",
     "output_type": "stream",
     "text": [
      "['alumno 1', 'alumno 2', 'alumno 3', 'alumno 4', 'alumno 5', 'alumno 6', 'alumno 7', 'alumno 8', 'alumno 5', 'alumno 6', 'alumno 7', 'alumno 8']\n"
     ]
    }
   ],
   "source": [
    "lista_3 = lista_1 + lista_2 \n",
    "print(lista_3)"
   ]
  },
  {
   "cell_type": "markdown",
   "metadata": {},
   "source": [
    "### Remover elementos de una lista\n",
    "Para remover un elemento específico de la lista se utiliza el comando remove:\n",
    "\n",
    "    lista.remove(elemento_a_remover)"
   ]
  },
  {
   "cell_type": "code",
   "execution_count": 253,
   "metadata": {},
   "outputs": [
    {
     "name": "stdout",
     "output_type": "stream",
     "text": [
      "Lista antes de remove:  [0, 1, 2, 'texto', 1.2, True]\n",
      "Lista después de remove:  [0, 1, 2, 'texto', True]\n"
     ]
    }
   ],
   "source": [
    "print('Lista antes de remove: ',lista)\n",
    "lista.remove(1.2) # Si el elemento no esta en la lista salta un error\n",
    "print('Lista después de remove: ',lista)"
   ]
  },
  {
   "cell_type": "markdown",
   "metadata": {},
   "source": [
    "Para remover un elemento que desconocemos cuál es, pero sabemos su posición en la tabla se utiliza el comando pop:\n",
    "\n",
    "    lista.pop(posicion_del_elemento_a_retirar)\n",
    "    \n",
    "Si a pop no se le pone ninguna posición entre paréntesis se va a retirar de la lista el último elemento"
   ]
  },
  {
   "cell_type": "code",
   "execution_count": 254,
   "metadata": {},
   "outputs": [
    {
     "name": "stdout",
     "output_type": "stream",
     "text": [
      "Lista antes del pop: \n",
      " [0, 1, 2, 'texto', True]\n",
      "Lista después del pop: \n",
      " [0, 1, 'texto', True]\n",
      "Lista sin el último elemento : \n",
      " [0, 1, 'texto']\n"
     ]
    }
   ],
   "source": [
    "print('Lista antes del pop: \\n',lista) # \\n es para que lo que viene despues se escriba en una nueva linea/renglon\n",
    "lista.pop(2)\n",
    "print('Lista después del pop: \\n',lista)\n",
    "lista.pop()\n",
    "print('Lista sin el último elemento : \\n',lista)"
   ]
  },
  {
   "cell_type": "markdown",
   "metadata": {},
   "source": [
    "Otro comando similar a pop es del:\n",
    "    \n",
    "    del lista[posicion_del_elemento_a_eliminar]"
   ]
  },
  {
   "cell_type": "code",
   "execution_count": 255,
   "metadata": {},
   "outputs": [
    {
     "name": "stdout",
     "output_type": "stream",
     "text": [
      "Lista antes de aplicar del: \n",
      " [0, 1, 'texto']\n",
      "Lista después de aplicar del: \n",
      " [0, 'texto']\n"
     ]
    }
   ],
   "source": [
    "print('Lista antes de aplicar del: \\n',lista)\n",
    "del lista[1]\n",
    "print('Lista después de aplicar del: \\n',lista)"
   ]
  },
  {
   "cell_type": "markdown",
   "metadata": {},
   "source": [
    "El comando del puede utilizarse incluso para eliminar la lista. Una vez eliminada la lista ya no podremos utilizar esta variable porque justamente fue eliminada."
   ]
  },
  {
   "cell_type": "code",
   "execution_count": 256,
   "metadata": {},
   "outputs": [
    {
     "name": "stdout",
     "output_type": "stream",
     "text": [
      "Lista antes de ser eliminada: \n",
      " [0, 'texto']\n"
     ]
    },
    {
     "ename": "NameError",
     "evalue": "name 'lista' is not defined",
     "output_type": "error",
     "traceback": [
      "\u001b[1;31m---------------------------------------------------------------------------\u001b[0m",
      "\u001b[1;31mNameError\u001b[0m                                 Traceback (most recent call last)",
      "\u001b[1;32m<ipython-input-256-285b9d0fe90a>\u001b[0m in \u001b[0;36m<module>\u001b[1;34m\u001b[0m\n\u001b[0;32m      1\u001b[0m \u001b[0mprint\u001b[0m\u001b[1;33m(\u001b[0m\u001b[1;34m'Lista antes de ser eliminada: \\n'\u001b[0m\u001b[1;33m,\u001b[0m\u001b[0mlista\u001b[0m\u001b[1;33m)\u001b[0m\u001b[1;33m\u001b[0m\u001b[1;33m\u001b[0m\u001b[0m\n\u001b[0;32m      2\u001b[0m \u001b[1;32mdel\u001b[0m \u001b[0mlista\u001b[0m\u001b[1;33m\u001b[0m\u001b[1;33m\u001b[0m\u001b[0m\n\u001b[1;32m----> 3\u001b[1;33m \u001b[0mprint\u001b[0m\u001b[1;33m(\u001b[0m\u001b[0mlista\u001b[0m\u001b[1;33m)\u001b[0m\u001b[1;33m\u001b[0m\u001b[1;33m\u001b[0m\u001b[0m\n\u001b[0m",
      "\u001b[1;31mNameError\u001b[0m: name 'lista' is not defined"
     ]
    }
   ],
   "source": [
    "print('Lista antes de ser eliminada: \\n',lista)\n",
    "del lista\n",
    "print(lista)"
   ]
  },
  {
   "cell_type": "markdown",
   "metadata": {},
   "source": [
    "En caso de querer borrar todos los elementos de la lista pero que esta siga siendo una variable vacia se utiliza el comando clear:"
   ]
  },
  {
   "cell_type": "code",
   "execution_count": 258,
   "metadata": {},
   "outputs": [
    {
     "name": "stdout",
     "output_type": "stream",
     "text": [
      "Lista antes de ser \"cleareada\" (limpiada): \n",
      " [0, 1, 2, 'texto', 1.2, True]\n",
      "Lista después de ser \"cleareada\" (limpiada): \n",
      " []\n"
     ]
    }
   ],
   "source": [
    "lista = [0,1,2,'texto',1.2, True]\n",
    "print('Lista antes de ser \"cleareada\" (limpiada): \\n',lista)\n",
    "lista.clear()\n",
    "print('Lista después de ser \"cleareada\" (limpiada): \\n',lista)"
   ]
  },
  {
   "cell_type": "markdown",
   "metadata": {},
   "source": [
    "## Ciclos \"for\"\n",
    "Los ciclos, o loops, \"for\" sirven para repetir un pedazo de código una cantidad determinada de veces o para recorrer una sucesión de cosas. Por ejemplo, si queremos tomar asistencia con la lista de alumnos:\n"
   ]
  },
  {
   "cell_type": "code",
   "execution_count": 259,
   "metadata": {},
   "outputs": [
    {
     "name": "stdout",
     "output_type": "stream",
     "text": [
      "Llamar al alumno 1\n",
      "Llamar al alumno 2\n",
      "Llamar al alumno 3\n",
      "Llamar al alumno 4\n",
      "Llamar al alumno 5\n",
      "Llamar al alumno 6\n",
      "Llamar al alumno 7\n",
      "Llamar al alumno 8\n",
      "Llamar al alumno 5\n",
      "Llamar al alumno 6\n",
      "Llamar al alumno 7\n",
      "Llamar al alumno 8\n"
     ]
    }
   ],
   "source": [
    "for alumno in lista_3:\n",
    "    print('Llamar al',alumno)"
   ]
  },
  {
   "cell_type": "markdown",
   "metadata": {},
   "source": [
    "Los ciclos for recorren de a un elemento en una lista, o mejor dicho, de a un elemento del \"iterable\". El significado de esta palabra se puede resumir en una variable que consta de varios elementos. Hay un iterable nativo de python que se llama range que genera números consecutivos, pero ojo, no es una lista. Seria algo asi como una función que va aumentando de a un valor a la vez."
   ]
  },
  {
   "cell_type": "code",
   "execution_count": 114,
   "metadata": {},
   "outputs": [
    {
     "data": {
      "text/plain": [
       "range(0, 5)"
      ]
     },
     "execution_count": 114,
     "metadata": {},
     "output_type": "execute_result"
    }
   ],
   "source": [
    "range(5)"
   ]
  },
  {
   "cell_type": "code",
   "execution_count": 115,
   "metadata": {},
   "outputs": [
    {
     "data": {
      "text/plain": [
       "[0, 1, 2, 3, 4]"
      ]
     },
     "execution_count": 115,
     "metadata": {},
     "output_type": "execute_result"
    }
   ],
   "source": [
    "list(range(5))"
   ]
  },
  {
   "cell_type": "markdown",
   "metadata": {},
   "source": [
    "La función range devuelve un número a la vez desde el cero hasta el número anterior a su argumento. Tambien se puede inicializar desde algún número en particular y setear(predeterminar) el tamaño de paso:\n",
    "\n",
    "    range(inicio,fin,paso)"
   ]
  },
  {
   "cell_type": "code",
   "execution_count": 142,
   "metadata": {},
   "outputs": [
    {
     "data": {
      "text/plain": [
       "[5, 7, 9, 11, 13, 15, 17, 19]"
      ]
     },
     "execution_count": 142,
     "metadata": {},
     "output_type": "execute_result"
    }
   ],
   "source": [
    "list(range(5,20,2))"
   ]
  },
  {
   "cell_type": "markdown",
   "metadata": {},
   "source": [
    "Probemos ahora el for para este iterable"
   ]
  },
  {
   "cell_type": "code",
   "execution_count": 143,
   "metadata": {},
   "outputs": [
    {
     "name": "stdout",
     "output_type": "stream",
     "text": [
      "0\n",
      "1\n",
      "2\n",
      "3\n",
      "4\n",
      "5\n",
      "6\n",
      "7\n",
      "8\n",
      "9\n"
     ]
    }
   ],
   "source": [
    "for i in range(10):\n",
    "    print(i)"
   ]
  },
  {
   "cell_type": "markdown",
   "metadata": {},
   "source": [
    "Si necesitaramos hacer un código para obtener números pares menores que 20 podemos plantearlo de dos maneras diferentes:"
   ]
  },
  {
   "cell_type": "code",
   "execution_count": 144,
   "metadata": {},
   "outputs": [
    {
     "name": "stdout",
     "output_type": "stream",
     "text": [
      "0\n",
      "2\n",
      "4\n",
      "6\n",
      "8\n",
      "10\n",
      "12\n",
      "14\n",
      "16\n",
      "18\n"
     ]
    }
   ],
   "source": [
    "for j in range(0,20,2):\n",
    "    print(j)"
   ]
  },
  {
   "cell_type": "code",
   "execution_count": 145,
   "metadata": {},
   "outputs": [
    {
     "name": "stdout",
     "output_type": "stream",
     "text": [
      "0\n",
      "2\n",
      "4\n",
      "6\n",
      "8\n",
      "10\n",
      "12\n",
      "14\n",
      "16\n",
      "18\n"
     ]
    }
   ],
   "source": [
    "for j in range(10):\n",
    "    print(j*2)"
   ]
  },
  {
   "cell_type": "markdown",
   "metadata": {},
   "source": [
    "### Break\n",
    "Hay veces que uno quiere revisar de a uno los elementos de una lista y que pase algo cuando se dá una condición. Por ejemplo, supongamos que tenemos una lista de pasajeros y nos cae un aviso de la interpol con el pedido de captura de alguien. Hay que hacer un código que recorra la lista y cuando el nombre de un pasajero sea igual al de un prófugo termine de recorrer la lista. Para esto usamos el comando break."
   ]
  },
  {
   "cell_type": "code",
   "execution_count": 260,
   "metadata": {},
   "outputs": [
    {
     "name": "stdout",
     "output_type": "stream",
     "text": [
      "El/La pasajero/a Pancho no tiene pedido de captura\n",
      "El/La pasajero/a Carlos no tiene pedido de captura\n",
      "El/La pasajero/a Carolina no tiene pedido de captura\n",
      "El/La pasajero/a Nicolas no tiene pedido de captura\n",
      "El/La pasajero/a Juliana no tiene pedido de captura\n",
      "Encontramos al profugo Pepin\n"
     ]
    }
   ],
   "source": [
    "profugo = 'Pepin'\n",
    "lista = ['Pancho','Carlos', 'Carolina','Nicolas','Juliana','Pepin','Alberto','Susana']\n",
    "for pasajero in lista:\n",
    "    if pasajero != profugo:\n",
    "        print(f'El/La pasajero/a {pasajero} no tiene pedido de captura')\n",
    "    else:\n",
    "        print(f'Encontramos al profugo {pasajero}')\n",
    "        break"
   ]
  },
  {
   "cell_type": "markdown",
   "metadata": {},
   "source": [
    "###  Continue \n",
    "\"Continue\" es una declaracion, como break, que sirve para \"anular\" un ciclo del for. Supongamos que tenemos una lista de verduras para hacer ensaladas. El problema es que tenemos un invitado que no le gusta la cebolla. Entonces tenemos que filtrar la lista para que no tenga \"cebolla\" como ingrediente. Esto podríamos hacerlo con \"remove\", pero vamos a hacerlo con los otros elementos que hemos aprendido"
   ]
  },
  {
   "cell_type": "code",
   "execution_count": 261,
   "metadata": {},
   "outputs": [
    {
     "name": "stdout",
     "output_type": "stream",
     "text": [
      "['tomate', 'lechuga', 'cebolla', 'huevo', 'aceite', 'sal']\n",
      "['tomate', 'lechuga', 'huevo', 'aceite', 'sal']\n"
     ]
    }
   ],
   "source": [
    "ingred_feo = 'cebolla'\n",
    "new_ensalada = [] # creo una lista vacia para despues ir agregando los elementos que van a quedar en la ensalada\n",
    "ensalada = ['tomate','lechuga','cebolla','huevo','aceite','sal']\n",
    "for ingrediente in ensalada:\n",
    "    if ingrediente == ingred_feo:\n",
    "        continue #Aca continue hace que el for pase al proximo elemento sin ejecutar el resto del codigo\n",
    "    new_ensalada.append(ingrediente)\n",
    "print(ensalada)\n",
    "print(new_ensalada)"
   ]
  },
  {
   "cell_type": "markdown",
   "metadata": {},
   "source": [
    "### Ciclos for anidados\n",
    "Alguno de ustedes son padres de chicos que van a la primaria, Si durante la pandemia tuvieron que ayudarlos a aprender las tablas de memoria (un sinsentido absoluto segun mi opinion). Para no recordar de memoria tantos números se puede usar python. Veamos cómo:"
   ]
  },
  {
   "cell_type": "code",
   "execution_count": 262,
   "metadata": {},
   "outputs": [
    {
     "name": "stdout",
     "output_type": "stream",
     "text": [
      "Tabla del 0\n",
      "0 x 0 = 0\n",
      "0 x 1 = 0\n",
      "0 x 2 = 0\n",
      "0 x 3 = 0\n",
      "0 x 4 = 0\n",
      "0 x 5 = 0\n",
      "0 x 6 = 0\n",
      "0 x 7 = 0\n",
      "0 x 8 = 0\n",
      "0 x 9 = 0\n",
      "Tabla del 1\n",
      "1 x 0 = 0\n",
      "1 x 1 = 1\n",
      "1 x 2 = 2\n",
      "1 x 3 = 3\n",
      "1 x 4 = 4\n",
      "1 x 5 = 5\n",
      "1 x 6 = 6\n",
      "1 x 7 = 7\n",
      "1 x 8 = 8\n",
      "1 x 9 = 9\n",
      "Tabla del 2\n",
      "2 x 0 = 0\n",
      "2 x 1 = 2\n",
      "2 x 2 = 4\n",
      "2 x 3 = 6\n",
      "2 x 4 = 8\n",
      "2 x 5 = 10\n",
      "2 x 6 = 12\n",
      "2 x 7 = 14\n",
      "2 x 8 = 16\n",
      "2 x 9 = 18\n",
      "Tabla del 3\n",
      "3 x 0 = 0\n",
      "3 x 1 = 3\n",
      "3 x 2 = 6\n",
      "3 x 3 = 9\n",
      "3 x 4 = 12\n",
      "3 x 5 = 15\n",
      "3 x 6 = 18\n",
      "3 x 7 = 21\n",
      "3 x 8 = 24\n",
      "3 x 9 = 27\n",
      "Tabla del 4\n",
      "4 x 0 = 0\n",
      "4 x 1 = 4\n",
      "4 x 2 = 8\n",
      "4 x 3 = 12\n",
      "4 x 4 = 16\n",
      "4 x 5 = 20\n",
      "4 x 6 = 24\n",
      "4 x 7 = 28\n",
      "4 x 8 = 32\n",
      "4 x 9 = 36\n",
      "Tabla del 5\n",
      "5 x 0 = 0\n",
      "5 x 1 = 5\n",
      "5 x 2 = 10\n",
      "5 x 3 = 15\n",
      "5 x 4 = 20\n",
      "5 x 5 = 25\n",
      "5 x 6 = 30\n",
      "5 x 7 = 35\n",
      "5 x 8 = 40\n",
      "5 x 9 = 45\n",
      "Tabla del 6\n",
      "6 x 0 = 0\n",
      "6 x 1 = 6\n",
      "6 x 2 = 12\n",
      "6 x 3 = 18\n",
      "6 x 4 = 24\n",
      "6 x 5 = 30\n",
      "6 x 6 = 36\n",
      "6 x 7 = 42\n",
      "6 x 8 = 48\n",
      "6 x 9 = 54\n",
      "Tabla del 7\n",
      "7 x 0 = 0\n",
      "7 x 1 = 7\n",
      "7 x 2 = 14\n",
      "7 x 3 = 21\n",
      "7 x 4 = 28\n",
      "7 x 5 = 35\n",
      "7 x 6 = 42\n",
      "7 x 7 = 49\n",
      "7 x 8 = 56\n",
      "7 x 9 = 63\n",
      "Tabla del 8\n",
      "8 x 0 = 0\n",
      "8 x 1 = 8\n",
      "8 x 2 = 16\n",
      "8 x 3 = 24\n",
      "8 x 4 = 32\n",
      "8 x 5 = 40\n",
      "8 x 6 = 48\n",
      "8 x 7 = 56\n",
      "8 x 8 = 64\n",
      "8 x 9 = 72\n",
      "Tabla del 9\n",
      "9 x 0 = 0\n",
      "9 x 1 = 9\n",
      "9 x 2 = 18\n",
      "9 x 3 = 27\n",
      "9 x 4 = 36\n",
      "9 x 5 = 45\n",
      "9 x 6 = 54\n",
      "9 x 7 = 63\n",
      "9 x 8 = 72\n",
      "9 x 9 = 81\n"
     ]
    }
   ],
   "source": [
    "for i in range(10):\n",
    "    print(f'Tabla del {i}')\n",
    "    for j in range(10):\n",
    "        print(f'{i} x {j} = {i*j}')"
   ]
  },
  {
   "cell_type": "markdown",
   "metadata": {},
   "source": [
    "## Problemas/ejemplos de aplicación\n",
    "\n",
    "1. Dada una lista de números enteros (list_nums) y un entero aparte (target) devolver el índice de los elementos en list_nums que dé igual al target. Podes asumir que cada entrada tiene exactamente una solución y no debemos usar el mismo elemento dos veces. Podes dar la salida en cualquier orden.\n",
    "\n",
    "    Entradas: list_nums = [2,7,11,15]   ;   target = 9\n",
    "    \n",
    "    Salida = [0,1]\n",
    "    \n",
    "    Explicación: Los números en las posiciones 0 y 1 son el 2 y el 7 que sumados dan 9\n",
    "    \n",
    "<a>https://leetcode.com/problems/two-sum/</a> Este problema es uno de los problemas que se toman en entrevistas laborales"
   ]
  },
  {
   "cell_type": "code",
   "execution_count": 180,
   "metadata": {},
   "outputs": [
    {
     "name": "stdout",
     "output_type": "stream",
     "text": [
      "[1, 0]\n"
     ]
    }
   ],
   "source": [
    "list_nums = [2,7,11,15]\n",
    "target = 9\n",
    "\n",
    "for i in list_nums: # Recorro la lista un elemento a la vez \n",
    "    temp_list = list_nums.copy() # Creo una nueva lista como copia de la original\n",
    "    temp_list.remove(i) # Remuevo de la nueva lista el elemento i\n",
    "    for j in temp_list: # Recorro la nueva lista, que termina siendo la lista original menos el elemento i\n",
    "        if i + j == target: # Si la suma del elemento i mas el elemento es igual al target: \n",
    "            sol = [list_nums.index(i),list_nums.index(j)] # Defino sol como los indices de estos elementos\n",
    "print(sol)"
   ]
  },
  {
   "cell_type": "code",
   "execution_count": 181,
   "metadata": {},
   "outputs": [
    {
     "data": {
      "text/plain": [
       "[1, 0]"
      ]
     },
     "execution_count": 181,
     "metadata": {},
     "output_type": "execute_result"
    }
   ],
   "source": [
    "# Otra solución (mas elegante y mejor)\n",
    "for i in list_nums:\n",
    "    for j in list_nums:\n",
    "        if i != j:\n",
    "            if i + j == target:\n",
    "                sol = [list_nums.index(i),list_nums.index(j)] \n",
    "print(sol)"
   ]
  },
  {
   "cell_type": "raw",
   "metadata": {},
   "source": [
    "2. Ordenar una lista de números de menor a mayor (Este es un código cliche para evaluar candidatos/as a un laburo)"
   ]
  },
  {
   "cell_type": "code",
   "execution_count": 204,
   "metadata": {},
   "outputs": [
    {
     "name": "stdout",
     "output_type": "stream",
     "text": [
      "[-14, 1, 2, 3, 4, 5, 6, 7, 9, 10, 38]\n"
     ]
    }
   ],
   "source": [
    "lista = [5,9,3,6,1,2,4,7,10,38,-14]\n",
    "\n",
    "menor = []\n",
    "for j in range(len(lista)):\n",
    "    menor_int = 99999\n",
    "    for i in lista:\n",
    "        if i < menor_int:\n",
    "            menor_int = i\n",
    "    lista.remove(menor_int)\n",
    "    menor.append(menor_int)\n",
    "print(menor)"
   ]
  },
  {
   "cell_type": "markdown",
   "metadata": {},
   "source": [
    "3. Dada una lista de números enteros remover aquellos que estan duplicados"
   ]
  },
  {
   "cell_type": "code",
   "execution_count": 209,
   "metadata": {},
   "outputs": [
    {
     "data": {
      "text/plain": [
       "[3, 5, 7, 2, 23, 24]"
      ]
     },
     "execution_count": 209,
     "metadata": {},
     "output_type": "execute_result"
    }
   ],
   "source": [
    "lista = [3,3,5,6,7,0,2,22,23,24,24,24] \n",
    "\n",
    "for n in lista:\n",
    "    veces = 0 #veces es una variable que va a contar las veces que encuentro un numero\n",
    "    for i in lista:\n",
    "        if n == i:\n",
    "            veces = veces + 1 # esta linea podria escribirse como \"veces += 1\"\n",
    "        if veces > 1: # el simbolo es mayor porque si un valor esta MAS de una vez lo remuevo\n",
    "            lista.remove(i) # Remove elimina solo un item de la lista.\n",
    "    \n",
    "lista"
   ]
  },
  {
   "cell_type": "markdown",
   "metadata": {},
   "source": [
    "4. Se da una lista con los precios de una acción de una empresa. Cada elemento de la lista corresponde al precio de cierre de esta acción. Hacer un código que indique en qué día nos convenía comprar y en cuál vender. También tiene que indicar la ganancia hecha. Si no hay ganancia tiene que devolver 0.\n",
    "Para este problema tenga en cuenta que uno obtiene ganancia si compra a un precio menor al que va a vender.\n",
    "\n",
    "<a>https://leetcode.com/problems/best-time-to-buy-and-sell-stock/</a> Todos los problemas de esta pagina son los problemas que se toman en entrevistas.\n"
   ]
  },
  {
   "cell_type": "code",
   "execution_count": 237,
   "metadata": {},
   "outputs": [
    {
     "name": "stdout",
     "output_type": "stream",
     "text": [
      "Compro a 1 el día 1. \n",
      "Vendo a 6 el día 4. \n",
      "Me queda de ganancia 5\n"
     ]
    }
   ],
   "source": [
    "precios = [7,1,5,3,6,4]\n",
    "#precios =  [7,6,4,3,1]\n",
    "menor = precios[0]\n",
    "for i in precios:\n",
    "    if i < menor:\n",
    "        menor = i\n",
    "pos_menor = precios.index(menor)\n",
    "cut_precios = precios[pos_menor:]\n",
    "mayor = cut_precios[0]\n",
    "for i in cut_precios:\n",
    "    if i > mayor:\n",
    "        mayor = i\n",
    "pos_mayor = cut_precios.index(mayor) + pos_menor\n",
    "print(f'Compro a {menor} el día {pos_menor}. \\nVendo a {mayor} el día {pos_mayor}. \\nMe queda de ganancia {mayor -menor}' )\n",
    "\n"
   ]
  },
  {
   "cell_type": "markdown",
   "metadata": {},
   "source": [
    "5. Dada una lista no vacía de números enteros hay un solo número que no aparece dos veces. Indicar cuál es.\n",
    "<a>https://leetcode.com/problems/single-number/</a>"
   ]
  },
  {
   "cell_type": "code",
   "execution_count": 246,
   "metadata": {},
   "outputs": [
    {
     "name": "stdout",
     "output_type": "stream",
     "text": [
      "-7\n"
     ]
    }
   ],
   "source": [
    "lista = [4,1,2,1,2,4,5,5,-7,8,8]\n",
    "\n",
    "\n",
    "for j in lista:\n",
    "    veces = 0\n",
    "    for i in lista:\n",
    "        if i-j == 0:\n",
    "            veces = veces + 1\n",
    "    if veces == 1:\n",
    "        solucion = j\n",
    "print (solucion)"
   ]
  },
  {
   "cell_type": "markdown",
   "metadata": {},
   "source": [
    "6. Calcular el promedio de una lista."
   ]
  },
  {
   "cell_type": "code",
   "execution_count": 273,
   "metadata": {},
   "outputs": [
    {
     "name": "stdout",
     "output_type": "stream",
     "text": [
      "3.0\n"
     ]
    }
   ],
   "source": [
    "lista = [4,1,2,1,2,4,5,5,-7,8,8]\n",
    "suma = 0\n",
    "for l in lista:\n",
    "    suma = suma + l\n",
    "promedio = suma/len(lista)\n",
    "print(promedio)"
   ]
  },
  {
   "cell_type": "markdown",
   "metadata": {},
   "source": [
    "7. Escribir un código que invierta el orden de la lista."
   ]
  },
  {
   "cell_type": "code",
   "execution_count": null,
   "metadata": {},
   "outputs": [],
   "source": []
  }
 ],
 "metadata": {
  "kernelspec": {
   "display_name": "Python 3",
   "language": "python",
   "name": "python3"
  },
  "language_info": {
   "codemirror_mode": {
    "name": "ipython",
    "version": 3
   },
   "file_extension": ".py",
   "mimetype": "text/x-python",
   "name": "python",
   "nbconvert_exporter": "python",
   "pygments_lexer": "ipython3",
   "version": "3.8.4"
  }
 },
 "nbformat": 4,
 "nbformat_minor": 4
}
