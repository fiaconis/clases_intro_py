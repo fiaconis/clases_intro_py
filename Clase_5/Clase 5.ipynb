{
 "cells": [
  {
   "cell_type": "markdown",
   "metadata": {},
   "source": [
    "# <center> Clase 5</center>"
   ]
  },
  {
   "cell_type": "markdown",
   "metadata": {},
   "source": [
    "Los ciclos, o loops, \"while\", son muy similares a los ciclos 'for', pero su principal diferencia yace en que los ciclos 'for' tienen un final preestablecido. Esto quiere decir que cuando hacemos un ciclo for, por ejemplo, para recorrer los elementos de una lista sabemos cuando se va a ir de ese ciclo (luego de recorrer el último elemento). En cambio en un ciclo 'while' el ciclo va a seguir ejecutándose mientras se siga dando una condición. Por ejemplo, hagamos un código que sume el puntaje de una mano del Blackjack ( <a>https://entretenimientodigital.net/reglas-del-juego-de-cartas-21/</a>"
   ]
  },
  {
   "cell_type": "code",
   "execution_count": 3,
   "metadata": {},
   "outputs": [
    {
     "name": "stdout",
     "output_type": "stream",
     "text": [
      "Número del 1 al 11: 7\n",
      "7\n",
      "Número del 1 al 11: 9\n",
      "16\n",
      "Número del 1 al 11: 8\n",
      "24\n"
     ]
    }
   ],
   "source": [
    "n = 0\n",
    "while n < 21:\n",
    "    n = n + int(input('Número del 1 al 11: '))\n",
    "    print(n)\n"
   ]
  },
  {
   "cell_type": "markdown",
   "metadata": {},
   "source": [
    "El codigo va a sumar los valores de las cartas hasta que sumen mas de 21 y luego va a dejar de correr el ciclo. Esto con un ciclo for no se podria hacer hasta que se tenga una lista de las cartas sacadas.\n",
    "Noten que ahora lo que va a la derecha del while es un booleano, es decir, un True o un False, a diferencia de los for que era un iterable, algo que tenia \"muchos\" elementos.\n",
    "\n",
    "### Break y Continue\n",
    "\n",
    "Al igual que en los for se pueden utilizar estas sentencias con el mismo fin. \n",
    "Veamos algunos ejemplos.Si queremos hacer un código que salude a todos menos a mi y que cuando escriba \"salir\" termine de pedir nombres para saludar:"
   ]
  },
  {
   "cell_type": "code",
   "execution_count": 8,
   "metadata": {},
   "outputs": [
    {
     "name": "stdout",
     "output_type": "stream",
     "text": [
      "ingrese su nombre: Carlos\n",
      "Hola, Carlos\n",
      "ingrese su nombre: Carolina\n",
      "Hola, Carolina\n",
      "ingrese su nombre: Pancho\n",
      "ingrese su nombre: Pepe\n",
      "Hola, Pepe\n",
      "ingrese su nombre: salir\n",
      "Saliste del bucle con break\n"
     ]
    }
   ],
   "source": [
    "while True:  # Ponerle un True aca crea un bucle, ciclo o loop infinito.\n",
    "    nombre = input('ingrese su nombre: ')\n",
    "    if nombre == 'Pancho':\n",
    "        continue  # Va a terminar este ciclo aca y vuelve arriba para pedir otro nombre\n",
    "    if nombre == 'salir':\n",
    "        break    # Fuerza la salida del bucle while \n",
    "    print(f'Hola, {nombre}')\n",
    "print('Saliste del bucle con break')"
   ]
  },
  {
   "cell_type": "markdown",
   "metadata": {},
   "source": [
    "### Else en los while\n",
    "La sentencia else se comporta similar al else de los if. Si la condición del while es False el enano de python no va a entrar a ver el código dentro del ciclo y se va a ir a ejecutar lo que esta dentro del else, pero lo va a ejecutar una sola vez.\n",
    "Por ejemplo, tenemos un contador de personas en un restaurant boutique que tiene solo 5 lugares. Podemos hacer un ciclo que cuente las personas de a una cuando van entrando y deje de contarlas cuando sean más que 5. Necesitamos que le avise al portero que no deje entrar más personas:"
   ]
  },
  {
   "cell_type": "code",
   "execution_count": 13,
   "metadata": {},
   "outputs": [
    {
     "name": "stdout",
     "output_type": "stream",
     "text": [
      "1\n",
      "2\n",
      "3\n",
      "4\n",
      "5\n",
      "Ya hay 5 personas adentro, no dejes entrar a más\n"
     ]
    }
   ],
   "source": [
    "i = 0\n",
    "while i < 5:\n",
    "    i += 1\n",
    "    print(i)\n",
    "else:\n",
    "    print(\"Ya hay 5 personas adentro, no dejes entrar a más\")"
   ]
  },
  {
   "cell_type": "markdown",
   "metadata": {},
   "source": [
    "# Repaso\n",
    "## print()\n",
    "La función \"print\" sirve para mostrar en pantalla valores de variables o texto. Hay varias formas de utilizar el print. Aca abajo hay algunas formas."
   ]
  },
  {
   "cell_type": "code",
   "execution_count": 3,
   "metadata": {},
   "outputs": [
    {
     "name": "stdout",
     "output_type": "stream",
     "text": [
      "Hola, Pancho ! Tu edad es 36\n",
      "Hola, Pancho! Tu edad es 36\n",
      "Hola, Pancho! Tu edad es 36\n",
      "Hola, Pancho! Tu edad es 36\n"
     ]
    }
   ],
   "source": [
    "nombre = 'Pancho'\n",
    "edad = 36\n",
    "\n",
    "print('Hola,',nombre,'! Tu edad es',edad) # imprime un texto (string), seguido de una variable y seguido de otro string) \n",
    "print('Hola, '+nombre+'! Tu edad es '+str(edad)) # imprime concatenacion de textos (strings)\n",
    "print(f'Hola, {nombre}! Tu edad es {edad}') # imprime texto con formato\n",
    "print('Hola, {}! Tu edad es {}'.format(nombre,edad)) #otra manera de imprimir con formato"
   ]
  },
  {
   "cell_type": "markdown",
   "metadata": {},
   "source": [
    "## Novedades del print\n",
    "La funcion print tiene dos argumentos que no vimos en clases. \"sep\" y \"end\".\n",
    "### print(   , sep = )\n",
    "sep es un argumento que podemos setear como SEParador entre las cosas que queremos mostrar. Por ejemplo, si quiero mostrar estas dos lineas:"
   ]
  },
  {
   "cell_type": "code",
   "execution_count": 5,
   "metadata": {},
   "outputs": [
    {
     "name": "stdout",
     "output_type": "stream",
     "text": [
      "Esta es la primera linea .- Esta es la segunda linea\n"
     ]
    }
   ],
   "source": [
    "linea_1 = 'Esta es la primera linea'\n",
    "linea_2 = 'Esta es la segunda linea'\n",
    "print(linea_1,linea_2,sep = ' .- ')"
   ]
  },
  {
   "cell_type": "markdown",
   "metadata": {},
   "source": [
    "Por defecto sep es igual a un espacio:"
   ]
  },
  {
   "cell_type": "code",
   "execution_count": 6,
   "metadata": {},
   "outputs": [
    {
     "name": "stdout",
     "output_type": "stream",
     "text": [
      "Esta es la primera linea Esta es la segunda linea\n",
      "Esta es la primera linea Esta es la segunda linea\n"
     ]
    }
   ],
   "source": [
    "print(linea_1,linea_2,sep = ' ')\n",
    "print(linea_1,linea_2)"
   ]
  },
  {
   "cell_type": "markdown",
   "metadata": {},
   "source": [
    "Si el separador es \"\\n\" va a introducir una nueva lines, es decir, la segunda cosa que queramos mostrar en pantalla va a estar en el renglon siguiente"
   ]
  },
  {
   "cell_type": "code",
   "execution_count": 7,
   "metadata": {},
   "outputs": [
    {
     "name": "stdout",
     "output_type": "stream",
     "text": [
      "Esta es la primera linea\n",
      "Esta es la segunda linea\n"
     ]
    }
   ],
   "source": [
    "print(linea_1,linea_2,sep = '\\n')"
   ]
  },
  {
   "cell_type": "markdown",
   "metadata": {},
   "source": [
    "Esto es equivalente a poner dos lineas print"
   ]
  },
  {
   "cell_type": "code",
   "execution_count": 8,
   "metadata": {},
   "outputs": [
    {
     "name": "stdout",
     "output_type": "stream",
     "text": [
      "Esta es la primera linea\n",
      "Esta es la segunda linea\n"
     ]
    }
   ],
   "source": [
    "print(linea_1)\n",
    "print(linea_2)"
   ]
  },
  {
   "cell_type": "markdown",
   "metadata": {},
   "source": [
    "### print( , end= )\n",
    "\"end\" es un argumento para definir como tiene que terminar la linea mostrada en pantalla. Por defecto este parametro es \"\\n\", por lo que cada linea nueva de print se va a mostrar en una nueva linea, pero podemos modificarlo:"
   ]
  },
  {
   "cell_type": "code",
   "execution_count": 10,
   "metadata": {},
   "outputs": [
    {
     "name": "stdout",
     "output_type": "stream",
     "text": [
      "Esta es la primera linea. Esta es la segunda linea -> Esta es la linea 3\n"
     ]
    }
   ],
   "source": [
    "linea_3 = 'Esta es la linea 3'\n",
    "print(linea_1,end = '. ')\n",
    "print(linea_2, end = ' -> ')\n",
    "print(linea_3)"
   ]
  },
  {
   "cell_type": "markdown",
   "metadata": {},
   "source": [
    "## Input\n",
    "Una manera de introducir datos a un codigo es hacerlo en el codigo, como por ejemplo la variable nombre y la variable edad en el ejemplo de los print, o podemos pedirsela al usuario por medio de la funcion input.\n",
    "Todo lo que se introduzca por teclado va a ser una variable string. Por esta razon si queremos introducir datos numericos vamos a tener que transformarlos con int( o con float("
   ]
  },
  {
   "cell_type": "code",
   "execution_count": 11,
   "metadata": {},
   "outputs": [
    {
     "name": "stdout",
     "output_type": "stream",
     "text": [
      "Introducir algo: algo\n",
      "algo\n"
     ]
    }
   ],
   "source": [
    "texto = input('Introducir algo: ')\n",
    "print(texto)"
   ]
  },
  {
   "cell_type": "markdown",
   "metadata": {},
   "source": [
    "## Tipos de datos y variables\n",
    "Las variables son nombres de cajas donde podemos guardar cualqueir cosa. Si tengo una caja donde guardo el numero dos, puedo etiquetar esa caja con el nombre \"pato\" si asi lo quisiera. De esta manera cuando queremos que el enano de python utilice el contenido de la caja simplemento le damos el nombre de la etiqueta \"pato\"."
   ]
  },
  {
   "cell_type": "code",
   "execution_count": 12,
   "metadata": {},
   "outputs": [
    {
     "name": "stdout",
     "output_type": "stream",
     "text": [
      "el contenido de la caja \"pato\" es 2\n"
     ]
    }
   ],
   "source": [
    "pato = 2\n",
    "print('el contenido de la caja \"pato\" es',pato)"
   ]
  },
  {
   "cell_type": "markdown",
   "metadata": {},
   "source": [
    "Dentro de las variables podemos guardar datos de diferente naturaleza. Los principales tres tipos de datos son los \"string\" que van a ser los textos, los \"int\", que van a ser los numeros enteros y los \"floats\" que van a ser los numeros decimales.\n",
    "Para trabajar con los datos se utilizan diferentes operadores. Estos operadores pueden funcionar diferente segun el tipo de datos al que se los aplique. Una lista de los operadores y sus funciones a pueden ver en este link <a>https://www.w3schools.com/python/python_operators.asp<\\a>\n",
    "Otro tipo de variable que utilizamos mucho son las variables booleanas. Estas variables pueden tomar solo dos valores True (verdadero) y False (falso). Estas variables tienen un conjunto propio de operadores y funciones que pueden verlos/as aca <a>https://www.w3schools.com/python/python_booleans.asp<\\a>"
   ]
  },
  {
   "cell_type": "markdown",
   "metadata": {},
   "source": [
    "## Listas\n",
    "Las listas son un conjunto ordenado de datos. Estos datos pueden ser de cualquier tipo, int, string, float, booleanos y/o incluso OTRAS LISTAS! Los metodos que aprendimos fueron:"
   ]
  },
  {
   "cell_type": "code",
   "execution_count": 51,
   "metadata": {},
   "outputs": [],
   "source": [
    "lista = ['primero','2do', 3,0.4,[5,6,7]] #aca defino una lista, con los elementos separados por coma y entre []"
   ]
  },
  {
   "cell_type": "markdown",
   "metadata": {},
   "source": [
    "### Algo nuevo de strings en medio\n",
    "Se puede generar un string largo como una variable y luego mostrarlo en pantalla. Estos strings largos se hacen con tres comillas simples y al momento de darle print se van a respetar los saltos de linea"
   ]
  },
  {
   "cell_type": "code",
   "execution_count": 44,
   "metadata": {},
   "outputs": [
    {
     "name": "stdout",
     "output_type": "stream",
     "text": [
      "El primer elemento es: lista[0] = primero\n",
      "El último elemento es: lista[-1] = [5, 6, 7]. Si, el último elemento es otra lista\n",
      "Para obtener una sublista se usa: lista[1:4] = ['2do', 3, 0.4]\n",
      "\n",
      "Para saber la longitud o la cantidad de elementos de una lista se utiliza len(lista) = 5\n",
      "\n",
      "Si se sabe el elemento se puede saber cual es su indice con lista.index(\"2do\") = 1\n",
      "\n",
      "Si queres saber si un elemento esta en una lista usamos \"in\" o \"not in\".\n",
      "    \"primero\" in tabla = True    \n",
      "    \"primero\" not in lista = False\n",
      "\n",
      "\n"
     ]
    }
   ],
   "source": [
    "texto_listas = f'''El primer elemento es: lista[0] = {lista[0]}\n",
    "El último elemento es: lista[-1] = {lista[-1]}. Si, el último elemento es otra lista\n",
    "Para obtener una sublista se usa: lista[1:4] = {lista[1:4]}\n",
    "\n",
    "Para saber la longitud o la cantidad de elementos de una lista se utiliza len(lista) = {len(lista)}\n",
    "\n",
    "Si se sabe el elemento se puede saber cual es su indice con lista.index(\"2do\") = {lista.index(\"2do\")}\n",
    "\n",
    "Si queres saber si un elemento esta en una lista usamos \"in\" o \"not in\".\n",
    "    \"primero\" in tabla = {\"primero\" in lista}    \n",
    "    \"primero\" not in lista = {\"primero\" not in lista}\n",
    "\n",
    "'''\n",
    "\n",
    "print(texto_listas)"
   ]
  },
  {
   "cell_type": "code",
   "execution_count": 52,
   "metadata": {},
   "outputs": [
    {
     "name": "stdout",
     "output_type": "stream",
     "text": [
      "Para insertar un elemento en una posicion determinada usamos \n",
      "lista.insert(1,\"elemento insertado\") -> ['primero', 'elemento insertado', '2do', 3, 0.4, [5, 6, 7]]\n"
     ]
    }
   ],
   "source": [
    "lista.insert(1,'elemento insertado')\n",
    "print(f'Para insertar un elemento en una posicion determinada usamos \\nlista.insert(1,\"elemento insertado\") -> {lista}')"
   ]
  },
  {
   "cell_type": "code",
   "execution_count": 58,
   "metadata": {},
   "outputs": [
    {
     "name": "stdout",
     "output_type": "stream",
     "text": [
      "lista con elemento apendizados\n",
      " ['primero', 'elemento insertado', '2do', 3, 0.4, [5, 6, 7], 'elemendo apendizado 1']\n"
     ]
    }
   ],
   "source": [
    "# Para apendizar elemento/s al final de una lsita se utiliza append\n",
    "lista.append(\"elemendo apendizado 1\")#puede ser una lista o un solo elemento.\n",
    "print(f'lista con elemento apendizados\\n',lista)"
   ]
  },
  {
   "cell_type": "code",
   "execution_count": 56,
   "metadata": {},
   "outputs": [],
   "source": [
    "lista.remove([\"elemendo apendizado 1\",\"elemento apendizado 2\"])"
   ]
  },
  {
   "cell_type": "code",
   "execution_count": null,
   "metadata": {},
   "outputs": [],
   "source": []
  }
 ],
 "metadata": {
  "kernelspec": {
   "display_name": "Python 3",
   "language": "python",
   "name": "python3"
  },
  "language_info": {
   "codemirror_mode": {
    "name": "ipython",
    "version": 3
   },
   "file_extension": ".py",
   "mimetype": "text/x-python",
   "name": "python",
   "nbconvert_exporter": "python",
   "pygments_lexer": "ipython3",
   "version": "3.8.4"
  }
 },
 "nbformat": 4,
 "nbformat_minor": 4
}
