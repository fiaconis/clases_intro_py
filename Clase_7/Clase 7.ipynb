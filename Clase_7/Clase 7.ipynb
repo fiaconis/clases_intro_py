{
 "cells": [
  {
   "cell_type": "markdown",
   "metadata": {},
   "source": [
    "# <center> Clase 7</center>\n",
    "## Diccionarios\n",
    "Ya hemos visto los tipos de datos que fueron, int (números enteros),float (números decimales), string (texto) y boolean(True o False). Luego vimos una manera de guardar varios datos. Esta manera fue usando una lista. En las listas podiamos guardar datos de forma ordenada, es decir cada elemento tenia una posicion determianda en la lista. Hoy vamos a ver los diccionarios, donde vamos a poder guardar diferentes tipos de datos pero en vez de ordenar estos datos de manera \"consecutiva\" los vamos a ordenar con \"claves\" o \"keys\" en inglés.\n",
    "Veamos un ejemplo de como se hace un diccionario de un tiket de supermercado."
   ]
  },
  {
   "cell_type": "code",
   "execution_count": 120,
   "metadata": {},
   "outputs": [],
   "source": [
    "ticket = {'Alfajor_promo': 67.99,\n",
    "          'yogurt': 70,\n",
    "          'gall_cerealitas': 452,\n",
    "          'Cantidades': [2,1,3],\n",
    "          'Método de pago': 'Efectivo',\n",
    "          'Fecha': '28/4/2022'}\n"
   ]
  },
  {
   "cell_type": "markdown",
   "metadata": {},
   "source": [
    "Ahora, si quiero saber el costo que el yogurt puedo acceder por medio de la clave (key):"
   ]
  },
  {
   "cell_type": "code",
   "execution_count": 47,
   "metadata": {},
   "outputs": [
    {
     "data": {
      "text/plain": [
       "70"
      ]
     },
     "execution_count": 47,
     "metadata": {},
     "output_type": "execute_result"
    }
   ],
   "source": [
    "ticket['yogurt']"
   ]
  },
  {
   "cell_type": "markdown",
   "metadata": {},
   "source": [
    "Si quisiera acceder al valor  guardado en una clave que no existe en el diccionario python me va a tirar una error:"
   ]
  },
  {
   "cell_type": "code",
   "execution_count": 55,
   "metadata": {},
   "outputs": [
    {
     "name": "stdout",
     "output_type": "stream",
     "text": [
      "70\n"
     ]
    },
    {
     "ename": "KeyError",
     "evalue": "'coso'",
     "output_type": "error",
     "traceback": [
      "\u001b[1;31m---------------------------------------------------------------------------\u001b[0m",
      "\u001b[1;31mKeyError\u001b[0m                                  Traceback (most recent call last)",
      "\u001b[1;32m<ipython-input-55-476490c245d0>\u001b[0m in \u001b[0;36m<module>\u001b[1;34m\u001b[0m\n\u001b[0;32m      1\u001b[0m \u001b[0mprint\u001b[0m\u001b[1;33m(\u001b[0m\u001b[0mticket\u001b[0m\u001b[1;33m[\u001b[0m\u001b[1;34m'yogurt'\u001b[0m\u001b[1;33m]\u001b[0m\u001b[1;33m)\u001b[0m\u001b[1;33m\u001b[0m\u001b[1;33m\u001b[0m\u001b[0m\n\u001b[1;32m----> 2\u001b[1;33m \u001b[0mprint\u001b[0m\u001b[1;33m(\u001b[0m\u001b[0mticket\u001b[0m\u001b[1;33m[\u001b[0m\u001b[1;34m'coso'\u001b[0m\u001b[1;33m]\u001b[0m\u001b[1;33m)\u001b[0m\u001b[1;33m\u001b[0m\u001b[1;33m\u001b[0m\u001b[0m\n\u001b[0m",
      "\u001b[1;31mKeyError\u001b[0m: 'coso'"
     ]
    }
   ],
   "source": [
    "print(ticket['yogurt'])\n",
    "print(ticket['coso'])"
   ]
  },
  {
   "cell_type": "markdown",
   "metadata": {},
   "source": [
    "Para evitar que salga un error y que el codigo siga funcionando se puede utilizar el método get que en caso de que la clave no exista no devuelve nada, pero tampoco da un error que puede romper todo el código:"
   ]
  },
  {
   "cell_type": "code",
   "execution_count": 53,
   "metadata": {},
   "outputs": [
    {
     "name": "stdout",
     "output_type": "stream",
     "text": [
      "70\n",
      "None\n"
     ]
    }
   ],
   "source": [
    "print(ticket.get('yogurt'))\n",
    "print(ticket.get('coso'))"
   ]
  },
  {
   "cell_type": "markdown",
   "metadata": {},
   "source": [
    "Si quisieramos agregar otro item al diccionario se puede agregar simplemente definiendolo:"
   ]
  },
  {
   "cell_type": "code",
   "execution_count": 59,
   "metadata": {},
   "outputs": [
    {
     "data": {
      "text/plain": [
       "{'Alfajor_promo': 67.99,\n",
       " 'yogurt': 70,\n",
       " 'gall_cerealitas': 452,\n",
       " 'Cantidades': [2, 1, 3],\n",
       " 'Método de pago': 'Efectivo',\n",
       " 'Fecha': '28/4/2022',\n",
       " 'otro item': 99}"
      ]
     },
     "execution_count": 59,
     "metadata": {},
     "output_type": "execute_result"
    }
   ],
   "source": [
    "ticket['otro item']= 99\n",
    "ticket"
   ]
  },
  {
   "cell_type": "markdown",
   "metadata": {},
   "source": [
    "Para modificar un item se puede hacer redifiniendo el mismo:"
   ]
  },
  {
   "cell_type": "code",
   "execution_count": 63,
   "metadata": {},
   "outputs": [
    {
     "data": {
      "text/plain": [
       "{'Alfajor_promo': 67.99,\n",
       " 'yogurt': 70,\n",
       " 'gall_cerealitas': 452,\n",
       " 'Cantidades': [2, 1, 3],\n",
       " 'Método de pago': 'Efectivo',\n",
       " 'Fecha': '28/4/2022',\n",
       " 'otro item': 'Gato'}"
      ]
     },
     "execution_count": 63,
     "metadata": {},
     "output_type": "execute_result"
    }
   ],
   "source": [
    "ticket['otro item'] = 'Gato'\n",
    "ticket"
   ]
  },
  {
   "cell_type": "markdown",
   "metadata": {},
   "source": [
    "Otra manera de cambiar o agregar un item es utilizando el método update:"
   ]
  },
  {
   "cell_type": "code",
   "execution_count": 64,
   "metadata": {},
   "outputs": [
    {
     "data": {
      "text/plain": [
       "{'Alfajor_promo': 67.99,\n",
       " 'yogurt': 70,\n",
       " 'gall_cerealitas': 452,\n",
       " 'Cantidades': [2, 1, 3],\n",
       " 'Método de pago': 'Efectivo',\n",
       " 'Fecha': '28/4/2022',\n",
       " 'otro item': 'Perro'}"
      ]
     },
     "execution_count": 64,
     "metadata": {},
     "output_type": "execute_result"
    }
   ],
   "source": [
    "ticket.update({'otro item': 'Perro'})\n",
    "ticket"
   ]
  },
  {
   "cell_type": "code",
   "execution_count": 66,
   "metadata": {},
   "outputs": [
    {
     "data": {
      "text/plain": [
       "{'Alfajor_promo': 67.99,\n",
       " 'yogurt': 70,\n",
       " 'gall_cerealitas': 452,\n",
       " 'Cantidades': [2, 1, 3],\n",
       " 'Método de pago': 'Efectivo',\n",
       " 'Fecha': '28/4/2022',\n",
       " 'otro item': 'Perro',\n",
       " 'otro item más': 99}"
      ]
     },
     "execution_count": 66,
     "metadata": {},
     "output_type": "execute_result"
    }
   ],
   "source": [
    "ticket.update({'otro item más': 99})\n",
    "ticket"
   ]
  },
  {
   "cell_type": "markdown",
   "metadata": {},
   "source": [
    "### Remoción de items. pop(), popitem(), del() y clear()\n",
    " El método pop remueve un item especificado como argumento del metodo"
   ]
  },
  {
   "cell_type": "code",
   "execution_count": 67,
   "metadata": {},
   "outputs": [
    {
     "data": {
      "text/plain": [
       "{'Alfajor_promo': 67.99,\n",
       " 'yogurt': 70,\n",
       " 'gall_cerealitas': 452,\n",
       " 'Cantidades': [2, 1, 3],\n",
       " 'Método de pago': 'Efectivo',\n",
       " 'Fecha': '28/4/2022',\n",
       " 'otro item': 'Perro'}"
      ]
     },
     "execution_count": 67,
     "metadata": {},
     "output_type": "execute_result"
    }
   ],
   "source": [
    "ticket.pop('otro item más')\n",
    "ticket"
   ]
  },
  {
   "cell_type": "markdown",
   "metadata": {},
   "source": [
    "El método popitem() remueve el último item del diccionario"
   ]
  },
  {
   "cell_type": "code",
   "execution_count": 68,
   "metadata": {},
   "outputs": [
    {
     "data": {
      "text/plain": [
       "{'Alfajor_promo': 67.99,\n",
       " 'yogurt': 70,\n",
       " 'gall_cerealitas': 452,\n",
       " 'Cantidades': [2, 1, 3],\n",
       " 'Método de pago': 'Efectivo',\n",
       " 'Fecha': '28/4/2022'}"
      ]
     },
     "execution_count": 68,
     "metadata": {},
     "output_type": "execute_result"
    }
   ],
   "source": [
    "ticket.popitem()\n",
    "ticket"
   ]
  },
  {
   "cell_type": "markdown",
   "metadata": {},
   "source": [
    "El método del funciona similar que con las listas. Puede eliminar un item o todo el diccionario"
   ]
  },
  {
   "cell_type": "code",
   "execution_count": 70,
   "metadata": {},
   "outputs": [
    {
     "data": {
      "text/plain": [
       "{'yogurt': 70,\n",
       " 'gall_cerealitas': 452,\n",
       " 'Cantidades': [2, 1, 3],\n",
       " 'Método de pago': 'Efectivo',\n",
       " 'Fecha': '28/4/2022'}"
      ]
     },
     "execution_count": 70,
     "metadata": {},
     "output_type": "execute_result"
    }
   ],
   "source": [
    "del ticket['Alfajor_promo']\n",
    "ticket"
   ]
  },
  {
   "cell_type": "code",
   "execution_count": 71,
   "metadata": {},
   "outputs": [
    {
     "ename": "NameError",
     "evalue": "name 'ticket' is not defined",
     "output_type": "error",
     "traceback": [
      "\u001b[1;31m---------------------------------------------------------------------------\u001b[0m",
      "\u001b[1;31mNameError\u001b[0m                                 Traceback (most recent call last)",
      "\u001b[1;32m<ipython-input-71-ce63dbed7d32>\u001b[0m in \u001b[0;36m<module>\u001b[1;34m\u001b[0m\n\u001b[0;32m      1\u001b[0m \u001b[1;32mdel\u001b[0m \u001b[0mticket\u001b[0m\u001b[1;33m\u001b[0m\u001b[1;33m\u001b[0m\u001b[0m\n\u001b[1;32m----> 2\u001b[1;33m \u001b[0mticket\u001b[0m\u001b[1;33m\u001b[0m\u001b[1;33m\u001b[0m\u001b[0m\n\u001b[0m",
      "\u001b[1;31mNameError\u001b[0m: name 'ticket' is not defined"
     ]
    }
   ],
   "source": [
    "del ticket\n",
    "ticket"
   ]
  },
  {
   "cell_type": "markdown",
   "metadata": {},
   "source": [
    "El método clear borra el contenido del diccionario, pero no el mismo:"
   ]
  },
  {
   "cell_type": "code",
   "execution_count": 75,
   "metadata": {},
   "outputs": [
    {
     "data": {
      "text/plain": [
       "{}"
      ]
     },
     "execution_count": 75,
     "metadata": {},
     "output_type": "execute_result"
    }
   ],
   "source": [
    "ticket.clear()\n",
    "ticket"
   ]
  },
  {
   "cell_type": "markdown",
   "metadata": {},
   "source": [
    "### Ejemplos de cómo recorrer un diccionario\n",
    "Muchas veces vamos a necesitar recorrer cada uno de los items de un diccionario. vamos a ver algunos métodos para hacer eso.\n",
    "Si navegamos con un for en cada item del diccionario, esto nos va a devolver las claves (keys) del mismo."
   ]
  },
  {
   "cell_type": "code",
   "execution_count": 78,
   "metadata": {},
   "outputs": [
    {
     "name": "stdout",
     "output_type": "stream",
     "text": [
      "Alfajor_promo\n",
      "yogurt\n",
      "gall_cerealitas\n",
      "Cantidades\n",
      "Método de pago\n",
      "Fecha\n"
     ]
    }
   ],
   "source": [
    "for x in ticket:\n",
    "    print(x)"
   ]
  },
  {
   "cell_type": "markdown",
   "metadata": {},
   "source": [
    "Otra manera de obtener la s claves del diccionario es con el método keys()"
   ]
  },
  {
   "cell_type": "code",
   "execution_count": 84,
   "metadata": {},
   "outputs": [
    {
     "data": {
      "text/plain": [
       "['Alfajor_promo',\n",
       " 'yogurt',\n",
       " 'gall_cerealitas',\n",
       " 'Cantidades',\n",
       " 'Método de pago',\n",
       " 'Fecha']"
      ]
     },
     "execution_count": 84,
     "metadata": {},
     "output_type": "execute_result"
    }
   ],
   "source": [
    "list(ticket.keys()) #para luego acceder a algunas de las claves es necesario convertir el resultado a lista"
   ]
  },
  {
   "cell_type": "code",
   "execution_count": 114,
   "metadata": {},
   "outputs": [
    {
     "name": "stdout",
     "output_type": "stream",
     "text": [
      "key: Alfajor_promo. valor: 67.99\n",
      "key: yogurt. valor: 70\n",
      "key: gall_cerealitas. valor: 452\n",
      "key: Método de pago. valor: Efectivo\n",
      "key: Fecha. valor: 28/4/2022\n"
     ]
    }
   ],
   "source": [
    "for x in ticket:\n",
    "    print(f'key: {x}. valor: {ticket[x]}')"
   ]
  },
  {
   "cell_type": "markdown",
   "metadata": {},
   "source": [
    "Voy a aprovechar para mostrarles como darle algun formato lindo a lo que se puede mostrar. Voy a usar el método de los strings \"center()\". Este método tiene como argumento la cantidad de espacios que va a ocupar el string y lo va a centrar en ese espacio."
   ]
  },
  {
   "cell_type": "code",
   "execution_count": 122,
   "metadata": {},
   "outputs": [
    {
     "name": "stdout",
     "output_type": "stream",
     "text": [
      "key:    Alfajor_promo     valor:      67.99     \n",
      "key:        yogurt        valor:        70      \n",
      "key:   gall_cerealitas    valor:       452      \n",
      "key:      Cantidades      valor:    [2, 1, 3]   \n",
      "key:    Método de pago    valor:     Efectivo   \n",
      "key:        Fecha         valor:    28/4/2022   \n"
     ]
    }
   ],
   "source": [
    "for x in ticket:\n",
    "    print(\"key: {} valor: {}\".format(x.center(20),str(ticket[x]).center(15)))"
   ]
  },
  {
   "cell_type": "markdown",
   "metadata": {},
   "source": [
    "Otra manera de listar los valores en un diccionario es utilizar el método values:"
   ]
  },
  {
   "cell_type": "code",
   "execution_count": 127,
   "metadata": {},
   "outputs": [
    {
     "name": "stdout",
     "output_type": "stream",
     "text": [
      "dict_values([67.99, 70, 452, [2, 1, 3], 'Efectivo', '28/4/2022'])\n"
     ]
    }
   ],
   "source": [
    "print(ticket.values())"
   ]
  },
  {
   "cell_type": "markdown",
   "metadata": {},
   "source": [
    "Una nueva forma de recorrer los elementos de un diccionario con un for es la siguiente:"
   ]
  },
  {
   "cell_type": "code",
   "execution_count": 131,
   "metadata": {},
   "outputs": [
    {
     "name": "stdout",
     "output_type": "stream",
     "text": [
      "key:    Alfajor_promo     valor:      67.99     \n",
      "key:        yogurt        valor:        70      \n",
      "key:   gall_cerealitas    valor:       452      \n",
      "key:      Cantidades      valor:    [2, 1, 3]   \n",
      "key:    Método de pago    valor:     Efectivo   \n",
      "key:        Fecha         valor:    28/4/2022   \n"
     ]
    }
   ],
   "source": [
    "for clave,valor in ticket.items():\n",
    "     print(\"key: {} valor: {}\".format(clave.center(20),str(valor).center(15)))"
   ]
  },
  {
   "cell_type": "code",
   "execution_count": 133,
   "metadata": {},
   "outputs": [
    {
     "data": {
      "text/plain": [
       "[('Alfajor_promo', 67.99),\n",
       " ('yogurt', 70),\n",
       " ('gall_cerealitas', 452),\n",
       " ('Cantidades', [2, 1, 3]),\n",
       " ('Método de pago', 'Efectivo'),\n",
       " ('Fecha', '28/4/2022')]"
      ]
     },
     "execution_count": 133,
     "metadata": {},
     "output_type": "execute_result"
    }
   ],
   "source": [
    "list(ticket.items())"
   ]
  },
  {
   "cell_type": "markdown",
   "metadata": {},
   "source": [
    "Fijense que ticket.items() devuelve algo asi como una lista de cosas que estan entre parentesis. Estas cosas que estan entre aprentesis son tuplas. Para la mayoria de los casos las tuplas pueden interpretarse como una lista y su principal diferencia con als mismas que es que son inmutables, sus valores no pueden cambiar. Para conocerlas mas a fondo pueden visitar este link <a>https://www.w3schools.com/python/python_tuples.asp</a>"
   ]
  },
  {
   "cell_type": "markdown",
   "metadata": {},
   "source": [
    "## Funciones lambda\n",
    "Las funciones lambda son como las funciones que ya vimos pero no tienen nombre y solo pueden tener una linea. Los ejercicios del primer entregable podrian haberse resuelto con este tipo de funciones. La manera de definirla es:\n",
    "\n",
    "    lambda argumentos: acción\n",
    "\n",
    "Hagamos los ejercicios del entregable anterior:"
   ]
  },
  {
   "cell_type": "code",
   "execution_count": 138,
   "metadata": {},
   "outputs": [],
   "source": [
    "area_triangulo = lambda base,altura: base*altura/2\n",
    "area_cuadrado = lambda lado: lado**2\n",
    "mayor_edad = lambda edad: edad>=18\n",
    "circ_cuad = lambda l,r: 2*r <= l"
   ]
  },
  {
   "cell_type": "code",
   "execution_count": 142,
   "metadata": {},
   "outputs": [
    {
     "name": "stdout",
     "output_type": "stream",
     "text": [
      "Problema 1: 6.0\n",
      "Problema 2: 25\n",
      "Problema 3: False\n",
      "Problema 4: True\n"
     ]
    }
   ],
   "source": [
    "print('Problema 1:',area_triangulo(3,4))\n",
    "print('Problema 2:',area_cuadrado(5))\n",
    "print('Problema 3:',mayor_edad(16))\n",
    "print('Problema 4:',circ_cuad(5,2))"
   ]
  },
  {
   "cell_type": "markdown",
   "metadata": {},
   "source": [
    "Este tipo de funciones se utiliza mucho cuando unbo necesita generalizar algo de alguna funcion determinada. veamos el ejemplo que se muestra en la pagina <a>https://www.w3schools.com/python/python_lambda.asp</a>"
   ]
  },
  {
   "cell_type": "code",
   "execution_count": 147,
   "metadata": {},
   "outputs": [
    {
     "name": "stdout",
     "output_type": "stream",
     "text": [
      "12\n"
     ]
    }
   ],
   "source": [
    "def tablas(n):\n",
    "    return lambda a: a*n\n",
    "\n",
    "tabla_2 = tablas(2)\n",
    "tabla_3 = tablas(3)\n",
    "\n",
    "print(tabla_2(6))"
   ]
  },
  {
   "cell_type": "markdown",
   "metadata": {},
   "source": [
    "De esta manera podemos definir facilmente otras fucniones a partir de una sola.\n",
    "Al igual que las funciones que aprendimos la clase pasada lambda puede terner mas de un argumento, argumentos con nombres, argumentos con valores por defecto, una lista variable de argumentos,etc."
   ]
  },
  {
   "cell_type": "code",
   "execution_count": 151,
   "metadata": {},
   "outputs": [
    {
     "data": {
      "text/plain": [
       "6"
      ]
     },
     "execution_count": 151,
     "metadata": {},
     "output_type": "execute_result"
    }
   ],
   "source": [
    "# Con varios parametros\n",
    "fun = lambda x, y, z: x + y + z\n",
    "fun(1, 2, 3)\n",
    "#Esto se puede escribir todo en una sola linea (lambda x, y, z: x + y + z)(1, 2, 3)"
   ]
  },
  {
   "cell_type": "code",
   "execution_count": 153,
   "metadata": {},
   "outputs": [
    {
     "data": {
      "text/plain": [
       "6"
      ]
     },
     "execution_count": 153,
     "metadata": {},
     "output_type": "execute_result"
    }
   ],
   "source": [
    "# Con parametros predefinidos\n",
    "fun = lambda x, y, z=3: x + y + z\n",
    "fun(1, 2)"
   ]
  },
  {
   "cell_type": "code",
   "execution_count": 154,
   "metadata": {},
   "outputs": [
    {
     "data": {
      "text/plain": [
       "9"
      ]
     },
     "execution_count": 154,
     "metadata": {},
     "output_type": "execute_result"
    }
   ],
   "source": [
    "fun(1,y=5) # Los parametros los podemos llamar por su nombre"
   ]
  },
  {
   "cell_type": "code",
   "execution_count": 156,
   "metadata": {},
   "outputs": [
    {
     "name": "stdout",
     "output_type": "stream",
     "text": [
      "12\n",
      "15\n"
     ]
    }
   ],
   "source": [
    "fun = lambda *args: sum(args)\n",
    "print(fun(10,2))\n",
    "print(fun(1,2,3,4,5))"
   ]
  },
  {
   "cell_type": "markdown",
   "metadata": {},
   "source": [
    "# Ejercicios\n",
    "\n",
    "1) Hacer una funcion que devuelva un diccionario con las siguientes claves: Nombre/s, apellido, direccion, telefono, DNI y nacimiento. Estas claves van a a ser los argumentos de la funcion. Los parametros obligatorios deben ser el nombre, apellido y DNI. Los demas argumentos deberan ser completados con una X en caso de no haberlos dado como parametros.\n",
    "\n",
    "2) Utilizando una funcion lambda para calcular los años de antiguedad de un auto. La funcion va a tener como argumento el año de fabricacion del auto.\n",
    "\n",
    "# Ejercicios de repaso\n",
    "\n",
    "1. Hacer un codigo para verificar si un ejercicio del entregable esta bien hecho\n",
    "    1. Hacer una lista de numeros aleatorios de largo aleatorio. Hacer otra lista que sea el resultado esperado. Ejecutar la solucion y comparar el resultado con la lista con el resultado esperado. Imprimir en pantalla el resultado de la comparacion.\n",
    "    2. Hacer un numero de serie  y una clave que seria la respuesta. Ejecutar la solucion y comparar el resultado con la clave esperada. Imprimir en pantalla el resultado de la comparacion.\n",
    "    3. Crear una string y el string invertido. Ejecutar la solucion y comparar el resultado con el string esperado. Imprimir en pantalla el resultado de la comparacion.\n",
    "    4. Hacer una funcion que tenga como argumentos la entrada del problema, la respuesta esperada y la respuesta obtenida con la solucion del entregable."
   ]
  },
  {
   "cell_type": "code",
   "execution_count": null,
   "metadata": {},
   "outputs": [],
   "source": []
  }
 ],
 "metadata": {
  "kernelspec": {
   "display_name": "Python 3",
   "language": "python",
   "name": "python3"
  },
  "language_info": {
   "codemirror_mode": {
    "name": "ipython",
    "version": 3
   },
   "file_extension": ".py",
   "mimetype": "text/x-python",
   "name": "python",
   "nbconvert_exporter": "python",
   "pygments_lexer": "ipython3",
   "version": "3.8.4"
  }
 },
 "nbformat": 4,
 "nbformat_minor": 4
}
