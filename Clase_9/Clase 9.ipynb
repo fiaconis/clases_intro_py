{
 "cells": [
  {
   "cell_type": "markdown",
   "metadata": {},
   "source": [
    "# <center> Clase 9</center>\n",
    "Muhcas veces vamos a encontrarnos con que tenemos un archivo de texto donde estan los valores con los que tenemos que trabajar, o que necesitamos que nuestro codigo devuelva un archivo con la solucion a un problema para poder darselo a un cliente. Para esto necesitamos saber como manejar archivos. El tipo de archivo mas facil para trabajar es el txt.\n",
    "Aca vamos a ver UNA manera de hacer el manejod e archivos, pero no es la única.\n",
    "\n",
    "## Open()\n",
    "La funcion open puede utilizarce para abrir un archivo existente, crear uno, escribir en uno y/o apendizar texto en uno.\n",
    "### Abrir un archivo\n",
    "En la misma carpeta que tengo el notebook o el .py tambien tengo el archivo a abrir. En caso que el archivo este en otro lado vamos a tener que escribir toda la direccion con el nombre incluido.\n",
    "La funcion open puede abrir un archivo para leer su contenido ('r'), para apendizar texto al final del mismo ('a'), escribir el contenido('w') o le podemos indicar que ese archivo no existe y vamos a crear uno nuevo('x'). Las letras entre parentesis son los valores que puede tener el segundo argumento de la funcion.\n",
    "\n",
    "    open('nombre_archivo.txt','r') # abre el archivo para leerlo\n",
    "    open('nombre_archivo.txt','a') # abre el archivo para apendizar texto\n",
    "    open('nombre_archivo.txt','w') # abre el archivo para escribir su contenido (borra lo que tenia)\n",
    "    open('nombre_archivo.txt','x') # crea un archivo nuevo si no existe"
   ]
  },
  {
   "cell_type": "code",
   "execution_count": 1,
   "metadata": {},
   "outputs": [],
   "source": [
    "himno = open('himno completo.txt','r',encoding ='utf8') # el encoding es para que lea correctamente el texto)"
   ]
  },
  {
   "cell_type": "code",
   "execution_count": 2,
   "metadata": {},
   "outputs": [
    {
     "data": {
      "text/plain": [
       "<_io.TextIOWrapper name='himno completo.txt' mode='r' encoding='utf8'>"
      ]
     },
     "execution_count": 2,
     "metadata": {},
     "output_type": "execute_result"
    }
   ],
   "source": [
    "himno"
   ]
  },
  {
   "cell_type": "markdown",
   "metadata": {},
   "source": [
    "Ya lo tenemos abierto al archivo. El enano de python que vive en la compu tiene el archivo en la mano y abierto. Para saber que es lo que tiene adentro el archivo hay que decirle al enano que lo lea. \"read\" en ingles significa \"leer\": "
   ]
  },
  {
   "cell_type": "code",
   "execution_count": 3,
   "metadata": {},
   "outputs": [
    {
     "data": {
      "text/plain": [
       "'¡Oíd, mortales!, el grito sagrado:\\n¡libertad!, ¡libertad!, ¡libertad!\\nOíd el ruido de rotas cadenas\\nved en trono a la noble igualdad. \\n\\nSe levanta en la faz de la tierra\\nuna nueva gloriosa nación.\\nCoronada su sien de laureles,\\ny a sus plantas rendido un león. (bis) \\n\\nEstribillo (con coro):\\n\\nSean eternos los laureles\\nque supimos conseguir: (bis)\\ncoronados de gloria vivamos,\\no juremos con gloria morir. (tris)\\n\\nDe los nuevos campeones los rostros\\nMarte mismo parece animar. (bis)\\nLa grandeza se anida en sus pechos\\na su marcha todo hacen temblar.\\n\\nSe conmueven del Inca las tumbas,\\ny en sus huesos revive el ardor,\\nLo que vé renovando a sus hijos\\nde la Patria el antiguo esplendor. (bis) \\n\\nEstribillo (con coro) \\n\\nPero sierras y muros se sienten\\nretumbar con horrible fragor. (bis)\\nTodo el país se conturba por gritos\\nde venganza, de guerra, y furor.\\n \\nEn los fieros tiranos la Envidia\\nescupió su pestífera hiel. (bis)\\nSu estandarte sangriento levantan\\nprovocando a la lid más cruel. (bis)\\n \\nEstribillo (con coro)\\n\\n¿No los veis sobre México y Quito\\narrojarse con saña tenaz? (bis)\\n¿Y cuál lloran, bañados en sangre\\nPotosí, Cochabamba, y La Paz?\\n \\n¿No los veis sobre el triste Caracas\\nluto, y llanto, y muerte esparcir?\\n¿No los veis devorando cual fieras\\ntodo pueblo que logran rendir? (bis)\\n\\nEstribillo (con coro)\\n\\nA vosotros se atreve argentinos\\nel orgullo del vil invasor.\\nVuestros campos ya pisa contando\\ntantas glorias hollar vencedor. (bis)\\n\\nMas los bravos que unidos juraron\\nsu feliz libertad sostener\\na estos tigres sedientos de sangre\\nfuertes pechos sabrán oponer.\\n \\nEstribillo (con coro)\\n\\nEl valiente argentino a las armas\\ncorre ardiendo con brío y valor:\\nEl clarín de la guerra, cual trueno\\nen los campos del Sud resonó.\\n\\nBuenos Aires se pone a la frente\\nde los pueblos de la ínclita unión.\\nY con brazos robustos desgarran\\nal ibérico altivo león.\\n\\nEstribillo (con coro)\\n\\nSan José, San Lorenzo, Suipacha,\\nambas Piedras, Salta, y Tucumán,\\nla colonia y las mismas murallas 10\\u200b\\ndel tirano en la banda Oriental. (bis)\\n\\nSon letreros eternos que dicen:\\naquí el brazo argentino triunfó;\\naquí el fiero opresor de la Patria\\nsu cerviz orgullosa dobló. (bis)\\n\\nEstribillo (con coro)\\n\\nLa Victoria al guerrero argentino\\ncon sus alas brillantes cubrió.\\nY azorado a su vista el tirano\\ncon infamia a la fuga se dio. (bis)\\n\\nSus banderas, sus armas, se rinden\\npor trofeos a la libertad.\\nY sobre alas de gloria alza el pueblo\\ntrono digno a su gran majestad. 11\\u200b\\n\\nEstribillo (con coro)\\n\\nDesde un polo hasta el otro resuena\\nde la fama el sonoro clarín. (bis)\\nY de América el nombre enseñando\\nLes repite, mortales, oid:\\n\\nYa su trono dignísimo abrieron 11\\u200b\\nlas Provincias Unidas del Sud.\\nY los libres del mundo responden\\nal gran pueblo argentino salud. (bis)\\n\\nEstribillo (con coro)'"
      ]
     },
     "execution_count": 3,
     "metadata": {},
     "output_type": "execute_result"
    }
   ],
   "source": [
    "himno.read()"
   ]
  },
  {
   "cell_type": "code",
   "execution_count": 4,
   "metadata": {},
   "outputs": [
    {
     "name": "stdout",
     "output_type": "stream",
     "text": [
      "\n"
     ]
    }
   ],
   "source": [
    "print(himno.read())"
   ]
  },
  {
   "cell_type": "markdown",
   "metadata": {},
   "source": [
    "Fijense que una vez que el enano lee el archivo ya no podemos usar mas la funcion read. Esto es porque los ojos del enano se quedaron al final del archivo. Para volver a releer hay que indicarle que tiene que volver al inicio del file (se acuerdan del video del padre con sus hijos y el sanguche?, bueno, esto es asi de frustrante tambien). O lo que hace la mayoria es cerrar el file y volver a leerlo. Para cerrar el file se utiliza la funcion \"close\" que en ingles significa justamente \"cerrar\""
   ]
  },
  {
   "cell_type": "code",
   "execution_count": 5,
   "metadata": {},
   "outputs": [
    {
     "name": "stdout",
     "output_type": "stream",
     "text": [
      "¡Oíd, mortales!, el grito sagrado:\n",
      "¡libertad!, ¡libertad!, ¡libertad!\n",
      "Oíd el ruido de rotas cadenas\n",
      "ved en trono a la noble igualdad. \n",
      "\n",
      "Se levanta en la faz de la tierra\n",
      "una nueva gloriosa nación.\n",
      "Coronada su sien de laureles,\n",
      "y a sus plantas rendido un león. (bis) \n",
      "\n",
      "Estribillo (con coro):\n",
      "\n",
      "Sean eternos los laureles\n",
      "que supimos conseguir: (bis)\n",
      "coronados de gloria vivamos,\n",
      "o juremos con gloria morir. (tris)\n",
      "\n",
      "De los nuevos campeones los rostros\n",
      "Marte mismo parece animar. (bis)\n",
      "La grandeza se anida en sus pechos\n",
      "a su marcha todo hacen temblar.\n",
      "\n",
      "Se conmueven del Inca las tumbas,\n",
      "y en sus huesos revive el ardor,\n",
      "Lo que vé renovando a sus hijos\n",
      "de la Patria el antiguo esplendor. (bis) \n",
      "\n",
      "Estribillo (con coro) \n",
      "\n",
      "Pero sierras y muros se sienten\n",
      "retumbar con horrible fragor. (bis)\n",
      "Todo el país se conturba por gritos\n",
      "de venganza, de guerra, y furor.\n",
      " \n",
      "En los fieros tiranos la Envidia\n",
      "escupió su pestífera hiel. (bis)\n",
      "Su estandarte sangriento levantan\n",
      "provocando a la lid más cruel. (bis)\n",
      " \n",
      "Estribillo (con coro)\n",
      "\n",
      "¿No los veis sobre México y Quito\n",
      "arrojarse con saña tenaz? (bis)\n",
      "¿Y cuál lloran, bañados en sangre\n",
      "Potosí, Cochabamba, y La Paz?\n",
      " \n",
      "¿No los veis sobre el triste Caracas\n",
      "luto, y llanto, y muerte esparcir?\n",
      "¿No los veis devorando cual fieras\n",
      "todo pueblo que logran rendir? (bis)\n",
      "\n",
      "Estribillo (con coro)\n",
      "\n",
      "A vosotros se atreve argentinos\n",
      "el orgullo del vil invasor.\n",
      "Vuestros campos ya pisa contando\n",
      "tantas glorias hollar vencedor. (bis)\n",
      "\n",
      "Mas los bravos que unidos juraron\n",
      "su feliz libertad sostener\n",
      "a estos tigres sedientos de sangre\n",
      "fuertes pechos sabrán oponer.\n",
      " \n",
      "Estribillo (con coro)\n",
      "\n",
      "El valiente argentino a las armas\n",
      "corre ardiendo con brío y valor:\n",
      "El clarín de la guerra, cual trueno\n",
      "en los campos del Sud resonó.\n",
      "\n",
      "Buenos Aires se pone a la frente\n",
      "de los pueblos de la ínclita unión.\n",
      "Y con brazos robustos desgarran\n",
      "al ibérico altivo león.\n",
      "\n",
      "Estribillo (con coro)\n",
      "\n",
      "San José, San Lorenzo, Suipacha,\n",
      "ambas Piedras, Salta, y Tucumán,\n",
      "la colonia y las mismas murallas 10​\n",
      "del tirano en la banda Oriental. (bis)\n",
      "\n",
      "Son letreros eternos que dicen:\n",
      "aquí el brazo argentino triunfó;\n",
      "aquí el fiero opresor de la Patria\n",
      "su cerviz orgullosa dobló. (bis)\n",
      "\n",
      "Estribillo (con coro)\n",
      "\n",
      "La Victoria al guerrero argentino\n",
      "con sus alas brillantes cubrió.\n",
      "Y azorado a su vista el tirano\n",
      "con infamia a la fuga se dio. (bis)\n",
      "\n",
      "Sus banderas, sus armas, se rinden\n",
      "por trofeos a la libertad.\n",
      "Y sobre alas de gloria alza el pueblo\n",
      "trono digno a su gran majestad. 11​\n",
      "\n",
      "Estribillo (con coro)\n",
      "\n",
      "Desde un polo hasta el otro resuena\n",
      "de la fama el sonoro clarín. (bis)\n",
      "Y de América el nombre enseñando\n",
      "Les repite, mortales, oid:\n",
      "\n",
      "Ya su trono dignísimo abrieron 11​\n",
      "las Provincias Unidas del Sud.\n",
      "Y los libres del mundo responden\n",
      "al gran pueblo argentino salud. (bis)\n",
      "\n",
      "Estribillo (con coro)\n"
     ]
    }
   ],
   "source": [
    "himno.close()\n",
    "himno = open('himno completo.txt',encoding ='utf8') # Por defecto python usa el modo 'r', por eso no lo pongo\n",
    "print(himno.read())\n",
    "himno.close() # Una buena costumbre es siempre cerrar los archivos una vez utilizados."
   ]
  },
  {
   "cell_type": "markdown",
   "metadata": {},
   "source": [
    "Siempre es conveniente guardar el texto original del archivo para un posterior analisis. Para eso utilizamos una variable donde vamos a guardar lo que lea el enano de Python:"
   ]
  },
  {
   "cell_type": "code",
   "execution_count": null,
   "metadata": {},
   "outputs": [],
   "source": [
    "himno = open('himno completo.txt',encoding ='utf8')\n",
    "texto_archivo = himno.read()\n",
    "himno.close()\n",
    "print(texto_archivo)"
   ]
  },
  {
   "cell_type": "markdown",
   "metadata": {},
   "source": [
    "De esta manera puedo recurrir al texto tantas veces quiera ya que ya almacene el texto en una variable que se llama texto_archivo. Ahora puedo aplicarle a este texto todo lo que sabemos que podemos aplicar a los strings.\n",
    "\n",
    "Muchas veces no necesitamos leer todo el archivo y solo necesitamos leer hasta algun caracter o linea del mismo.para eso podemos utilizar los metodos read o readline."
   ]
  },
  {
   "cell_type": "code",
   "execution_count": null,
   "metadata": {},
   "outputs": [],
   "source": [
    "himno = open('himno completo.txt',encoding='utf-8')\n",
    "print(himno.read(5)) # Si al metodo read le damos un argumento lee el archivo hasta ese caracter\n",
    "himno.close()"
   ]
  },
  {
   "cell_type": "markdown",
   "metadata": {},
   "source": [
    "El metodo readline lee de a un renglon por vez. Si ponemos dos veces cseguidas readline() vamos a leer el primer renglon y luego el segundo"
   ]
  },
  {
   "cell_type": "code",
   "execution_count": 6,
   "metadata": {},
   "outputs": [
    {
     "name": "stdout",
     "output_type": "stream",
     "text": [
      "¡Oíd, mortales!, el grito sagrado:\n",
      "\n",
      "¡libertad!, ¡libertad!, ¡libertad!\n",
      "\n"
     ]
    }
   ],
   "source": [
    "himno = open('himno completo.txt',encoding='utf-8')\n",
    "print(himno.readline()) # Aca lee el primer renglon\n",
    "print(himno.readline()) # Aca lee el segundo renglon\n",
    "himno.close()"
   ]
  },
  {
   "cell_type": "markdown",
   "metadata": {},
   "source": [
    "## Crear un archivo. \n",
    "Para crear un archivo podemos utilizar el metodo open con los argumentos 'a' ( que apendiza contenido),'w' (ue escribe el contenido de un archivo borrando lo que tenia adentro) o con 'x' ( Si ya existe un archivo con ese nombre salta un error)\n",
    "Voy a crear tres archivos con estos tres metodos:"
   ]
  },
  {
   "cell_type": "code",
   "execution_count": null,
   "metadata": {},
   "outputs": [],
   "source": [
    "a = open('Archivo con a.txt','a')\n",
    "w = open('Archivo con w.txt','w')\n",
    "x = open('Archivo con x.txt','x')\n"
   ]
  },
  {
   "cell_type": "markdown",
   "metadata": {},
   "source": [
    "### Apendizar contenido en \"Archivo con a.txt\""
   ]
  },
  {
   "cell_type": "code",
   "execution_count": null,
   "metadata": {},
   "outputs": [],
   "source": [
    "a.write(\"Esta va a ser la primera linea del archivo generado con a \\n\")\n",
    "a.write('--------------------------------------------------------- \\n')\n",
    "a.write('Esta va a ser la tercera linea del archivo generado con a \\n')\n",
    "a.close() # es muy importante cerrar el archivo para que se guarden los cambios"
   ]
  },
  {
   "cell_type": "code",
   "execution_count": null,
   "metadata": {},
   "outputs": [],
   "source": [
    "print(a.read()) # para poder leer el archivo tenemos que abrirlo en modo lectura"
   ]
  },
  {
   "cell_type": "code",
   "execution_count": null,
   "metadata": {},
   "outputs": [],
   "source": [
    "a_read = open('Archivo con a.txt','r')\n",
    "print(a_read.read())\n",
    "a_read.close()"
   ]
  },
  {
   "cell_type": "markdown",
   "metadata": {},
   "source": [
    "### Escribir contenido en el \"Archivo con w.txt\"\n",
    "\n",
    "Voy a escribir una linea en el archivo \"Archivo con w.txt\". Luego voy a leer dicho archivo. Despues voy utilizar otra vez write para escribir una nueva linea. Como el archivo se abre en modo \"w\" lo que va a hacer python es reescribir el archivo y no va aquedar rastros de la primera linea que escribi."
   ]
  },
  {
   "cell_type": "code",
   "execution_count": null,
   "metadata": {},
   "outputs": [],
   "source": [
    "w.write('Esta es la primera vez que uso write')\n",
    "w.close()\n",
    "w_read = open('Archivo con w.txt','r')\n",
    "print(w_read.read())\n",
    "w_read.close()\n",
    "\n",
    "\n",
    "w = open('Archivo con w.txt','w')\n",
    "w.write('Esta es la segunda vez que uso write')\n",
    "w.close()\n",
    "w_read2 = open('Archivo con w.txt','r')\n",
    "print(w_read2.read())\n",
    "w_read2.close()"
   ]
  },
  {
   "cell_type": "markdown",
   "metadata": {},
   "source": [
    "### Escribir en \"Archivo con x.txt\""
   ]
  },
  {
   "cell_type": "code",
   "execution_count": null,
   "metadata": {},
   "outputs": [],
   "source": [
    "x.write('primera vez')\n",
    "x.close()"
   ]
  },
  {
   "cell_type": "code",
   "execution_count": null,
   "metadata": {},
   "outputs": [],
   "source": [
    "x_read = open('Archivo con x.txt','r')\n",
    "print(x_read.read())\n",
    "x_read.close()"
   ]
  },
  {
   "cell_type": "markdown",
   "metadata": {},
   "source": [
    "# Paquetes de python\n",
    "Hay personas muy generosas que crean muchas funciones que hacen cosas muy interesantes. Esas funciones las guardan en un archivo que se llama paquete. Estos paquetes estan disponibles para descargar muy facilmente y otros estan disponibles ya desde que instalamos python. \n",
    "## Random\n",
    "Uno de esos paquetes es el que se llama random. Para poder utilizarlo se tiene que importar escribiendo:\n",
    "\n",
    "    import random\n",
    "    \n",
    "Esto hace falta solo una vez y generalmente los paquetes se importan en el comienzo del archivo o notebook. En este paquete vamos a encontrar varias funciones que pueden consultar en este link <a>https://www.w3schools.com/python/module_random.asp</a>.\n",
    "Veamos un par de estas funciones"
   ]
  },
  {
   "cell_type": "code",
   "execution_count": null,
   "metadata": {},
   "outputs": [],
   "source": [
    "import random # Esto hace falta hacerlo una sola vez"
   ]
  },
  {
   "cell_type": "markdown",
   "metadata": {},
   "source": [
    "**randint** es una funcion que esta dentro del paquete random. Esta funcion devuelve un numero entero dentro de un rango que se pasa como argumentos. Para poder utilizar esa funcion hay que escribir primero el nombre del paquete luego un punto y despues el nombre de la funcion."
   ]
  },
  {
   "cell_type": "code",
   "execution_count": null,
   "metadata": {},
   "outputs": [],
   "source": [
    "random.randint(0,10) # Devuelve un numero entero aleatorio entre el cero y el 10"
   ]
  },
  {
   "cell_type": "markdown",
   "metadata": {},
   "source": [
    "**choice** es una funcion que elige un elemento de una lista de manera aleatoria."
   ]
  },
  {
   "cell_type": "code",
   "execution_count": null,
   "metadata": {},
   "outputs": [],
   "source": [
    "lista = [0,1,2,3,'gato','perro','jirafa',True,False]\n",
    "random.choice(lista)"
   ]
  },
  {
   "cell_type": "markdown",
   "metadata": {},
   "source": [
    "**random** es una funcion que nos devuelve un numero aleatorio decimal entre cero y uno"
   ]
  },
  {
   "cell_type": "code",
   "execution_count": null,
   "metadata": {},
   "outputs": [],
   "source": [
    "random.random()"
   ]
  },
  {
   "cell_type": "markdown",
   "metadata": {},
   "source": [
    "## Paquete math\n",
    "\n",
    "Este paquete tiene algunas funciones basicas matematicas y algunas constantes. Las funciones y constantes las pueden consultar en este link <a>https://www.w3schools.com/python/module_math.asp</a>. Para utilizar sus funciones hay que importar el paquete de la misma manera que lo hicimos con random"
   ]
  },
  {
   "cell_type": "code",
   "execution_count": null,
   "metadata": {},
   "outputs": [],
   "source": [
    "import math"
   ]
  },
  {
   "cell_type": "markdown",
   "metadata": {},
   "source": [
    "Las constantes que tiene este paquete son:"
   ]
  },
  {
   "cell_type": "code",
   "execution_count": null,
   "metadata": {},
   "outputs": [],
   "source": [
    "pi = math.pi\n",
    "num_e = math.e\n",
    "infinito = math.inf\n",
    "not_a_number = math.nan"
   ]
  },
  {
   "cell_type": "code",
   "execution_count": null,
   "metadata": {},
   "outputs": [],
   "source": [
    "\n",
    "texto = f'''π = {pi}\n",
    "e = {num_e}\n",
    "∞ = {infinito}\n",
    "NaN = {not_a_number}'''\n",
    "print(texto)"
   ]
  },
  {
   "cell_type": "raw",
   "metadata": {},
   "source": []
  },
  {
   "cell_type": "markdown",
   "metadata": {},
   "source": [
    "Algunas de las funciones del paquete son las siguientes:\n",
    "\n",
    "Para redondear un numero decimal al entero superior se utiliza **ceil()** (techo en ingles). PAra redondear al entero inferior se utiliza **floor()** (piso en ingles)"
   ]
  },
  {
   "cell_type": "code",
   "execution_count": null,
   "metadata": {},
   "outputs": [],
   "source": [
    "print(f'math.ceil(2.3) = {math.ceil(2.3)}')\n",
    "print(f'math.floor(2.3) = {math.floor(2.3)}')"
   ]
  },
  {
   "cell_type": "markdown",
   "metadata": {},
   "source": [
    "Las funciones trigonometricas son sin() (seno),cos() (coseno), tan() (tangente)."
   ]
  },
  {
   "cell_type": "markdown",
   "metadata": {},
   "source": [
    "# Problemas/ejemplos\n",
    "\n",
    "1) Crear un archivo que contenga 100 numeros aleatorios separados por una coma\n",
    "\n",
    "2) Abrir el archivo del ejercicio anterior, calcular su promedio y quedarse con los numeros que distan en 3 del promedio. Guardar el resultado en el mismo archivo sin modificar la lista original."
   ]
  },
  {
   "cell_type": "markdown",
   "metadata": {},
   "source": [
    "## Algoritmo\n",
    "### Ejercicio 1\n",
    "1. Crear un archivo\n",
    "2. Generar una lista de 100 numeros enteros random entre 0 y 10 \n",
    "3. Convertir dicha lista en un string\n",
    "4. Escribir el string en el archivo\n",
    "5. Cerrar el archivo\n",
    "\n",
    "### Ejercicio 2\n",
    "1. Abrir el archivo en modo 'r' para leer su contenido.\n",
    "2. Transformar el string de la lista de numeros en una lista de python\n",
    "3. Calcular su promedio\n",
    "4. Hacer una nueva lista con los que distan en 3 al promedio.\n",
    "5. Convertir la lista en un string\n",
    "6. Abrir el archivo en modo 'a' para no modificar el contenido original\n",
    "7. Apendizar la nueva lista al archivo\n",
    "8. Cerrar el archivo\n"
   ]
  },
  {
   "cell_type": "markdown",
   "metadata": {},
   "source": [
    "### Problema 1"
   ]
  },
  {
   "cell_type": "code",
   "execution_count": null,
   "metadata": {},
   "outputs": [],
   "source": [
    "# 1. Crear un archivo\n",
    "file = open('lista random.txt','w')"
   ]
  },
  {
   "cell_type": "code",
   "execution_count": null,
   "metadata": {
    "scrolled": true
   },
   "outputs": [],
   "source": [
    "# 2. Generar una lista de 100 numeros random\n",
    "lista = []\n",
    "for i in range(100):\n",
    "    lista.append(random.randint(0,10))\n",
    "print(lista)"
   ]
  },
  {
   "cell_type": "code",
   "execution_count": null,
   "metadata": {},
   "outputs": [],
   "source": [
    "# 3.Convertir dicha lista en un string\n",
    "lista_string = str(lista)"
   ]
  },
  {
   "cell_type": "code",
   "execution_count": null,
   "metadata": {},
   "outputs": [],
   "source": [
    "#4. Escribir el string en el archivo\n",
    "file.write(lista_string)"
   ]
  },
  {
   "cell_type": "code",
   "execution_count": null,
   "metadata": {},
   "outputs": [],
   "source": [
    "# 5. Cerrar el archivo\n",
    "file.close()"
   ]
  },
  {
   "cell_type": "markdown",
   "metadata": {},
   "source": [
    "### Problema 2"
   ]
  },
  {
   "cell_type": "code",
   "execution_count": null,
   "metadata": {},
   "outputs": [],
   "source": [
    "# 1. Abrir el archivo en modo 'r' para leer su contenido.\n",
    "archivo = open('lista random.txt','r')\n",
    "lista_str = archivo.read()\n"
   ]
  },
  {
   "cell_type": "code",
   "execution_count": null,
   "metadata": {
    "scrolled": true
   },
   "outputs": [],
   "source": [
    "# 2. Transformar el string de la lista de numeros en una lista de python\n",
    "# Tengo que usar la lista_str sin contar los corchetes para poder usar el metodo split y \n",
    "# asi obtener los numeros\n",
    "\n",
    "lista_str = lista_str[1:-1].split(', ')"
   ]
  },
  {
   "cell_type": "code",
   "execution_count": null,
   "metadata": {
    "scrolled": true
   },
   "outputs": [],
   "source": [
    "lista_int= []\n",
    "for i in lista_str:\n",
    "    lista_int.append(int(i))\n",
    "lista_int"
   ]
  },
  {
   "cell_type": "code",
   "execution_count": null,
   "metadata": {},
   "outputs": [],
   "source": [
    "# 3. Calcular su promedio\n",
    "promedio = sum(lista_int)/len(lista_int)\n",
    "print(promedio)"
   ]
  },
  {
   "cell_type": "code",
   "execution_count": null,
   "metadata": {},
   "outputs": [],
   "source": [
    "# 4. Hacer una nueva lista con los que distan en 3 al promedio.\n",
    "new_list = []\n",
    "for j in lista_int:\n",
    "    if abs(j-promedio)<3:\n",
    "        new_list.append(j)\n",
    "\n",
    "print(new_list,promedio)"
   ]
  },
  {
   "cell_type": "code",
   "execution_count": null,
   "metadata": {},
   "outputs": [],
   "source": [
    "# 5. Convertir la lista en un string\n",
    "texto = str(new_list)\n",
    "print(texto)"
   ]
  },
  {
   "cell_type": "code",
   "execution_count": null,
   "metadata": {},
   "outputs": [],
   "source": [
    "# 6. Abrir el archivo en modo 'a' para no modificar el contenido original\n",
    "archivo_mod = open('lista random.txt','a')"
   ]
  },
  {
   "cell_type": "code",
   "execution_count": null,
   "metadata": {},
   "outputs": [],
   "source": [
    "# 7. Apendizar la nueva lista al archivo\n",
    "archivo_mod.write('\\nNueva lista: '+texto)"
   ]
  },
  {
   "cell_type": "code",
   "execution_count": null,
   "metadata": {},
   "outputs": [],
   "source": [
    "# 8. Cerrar el archivo\n",
    "archivo_mod.close()"
   ]
  }
 ],
 "metadata": {
  "kernelspec": {
   "display_name": "Python 3",
   "language": "python",
   "name": "python3"
  },
  "language_info": {
   "codemirror_mode": {
    "name": "ipython",
    "version": 3
   },
   "file_extension": ".py",
   "mimetype": "text/x-python",
   "name": "python",
   "nbconvert_exporter": "python",
   "pygments_lexer": "ipython3",
   "version": "3.8.4"
  }
 },
 "nbformat": 4,
 "nbformat_minor": 4
}
