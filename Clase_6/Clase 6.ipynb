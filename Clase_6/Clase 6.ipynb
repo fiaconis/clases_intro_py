{
 "cells": [
  {
   "cell_type": "markdown",
   "metadata": {},
   "source": [
    "# <center> Clase 6 </center>"
   ]
  },
  {
   "cell_type": "markdown",
   "metadata": {},
   "source": [
    "## Veamos dos metodos nuevos de strings find, replace, split y join\n",
    "Estos son algunos métodos de los strings, pero aca pueden encontrar más <a>https://www.w3schools.com/python/python_strings_methods.asp</a>\n",
    "### find\n",
    "Find es un metodo que sirve para encontrar alogo en un string. Ese \"algo\" puede ser una letra o toda una palabra. Es algo parecido a lo que hace index() en las listas. La principal diferencia es que index tira un error si buscamos algo que no esta en la lista y find devuelve -1 si no encuentra nada"
   ]
  },
  {
   "cell_type": "code",
   "execution_count": 3,
   "metadata": {},
   "outputs": [
    {
     "data": {
      "text/plain": [
       "17"
      ]
     },
     "execution_count": 3,
     "metadata": {},
     "output_type": "execute_result"
    }
   ],
   "source": [
    "texto = 'Esto es un texto cualquiera para ver cómo funciona find, index y split en los strings'\n",
    "texto.find('cualquiera')"
   ]
  },
  {
   "cell_type": "code",
   "execution_count": 4,
   "metadata": {},
   "outputs": [
    {
     "data": {
      "text/plain": [
       "'cualquiera para ver cómo funciona find, index y split en los strings'"
      ]
     },
     "execution_count": 4,
     "metadata": {},
     "output_type": "execute_result"
    }
   ],
   "source": [
    "texto[17:]"
   ]
  },
  {
   "cell_type": "code",
   "execution_count": 5,
   "metadata": {},
   "outputs": [
    {
     "data": {
      "text/plain": [
       "17"
      ]
     },
     "execution_count": 5,
     "metadata": {},
     "output_type": "execute_result"
    }
   ],
   "source": [
    "texto.index('cualquiera')"
   ]
  },
  {
   "cell_type": "code",
   "execution_count": 8,
   "metadata": {},
   "outputs": [
    {
     "name": "stdout",
     "output_type": "stream",
     "text": [
      "-1\n"
     ]
    },
    {
     "ename": "ValueError",
     "evalue": "substring not found",
     "output_type": "error",
     "traceback": [
      "\u001b[1;31m---------------------------------------------------------------------------\u001b[0m",
      "\u001b[1;31mValueError\u001b[0m                                Traceback (most recent call last)",
      "\u001b[1;32m<ipython-input-8-59154f85a391>\u001b[0m in \u001b[0;36m<module>\u001b[1;34m\u001b[0m\n\u001b[0;32m      1\u001b[0m \u001b[0mprint\u001b[0m\u001b[1;33m(\u001b[0m\u001b[0mtexto\u001b[0m\u001b[1;33m.\u001b[0m\u001b[0mfind\u001b[0m\u001b[1;33m(\u001b[0m\u001b[1;34m'Pancho'\u001b[0m\u001b[1;33m)\u001b[0m\u001b[1;33m)\u001b[0m\u001b[1;33m\u001b[0m\u001b[1;33m\u001b[0m\u001b[0m\n\u001b[1;32m----> 2\u001b[1;33m \u001b[0mprint\u001b[0m\u001b[1;33m(\u001b[0m\u001b[0mtexto\u001b[0m\u001b[1;33m.\u001b[0m\u001b[0mindex\u001b[0m\u001b[1;33m(\u001b[0m\u001b[1;34m'Pancho'\u001b[0m\u001b[1;33m)\u001b[0m\u001b[1;33m)\u001b[0m\u001b[1;33m\u001b[0m\u001b[1;33m\u001b[0m\u001b[0m\n\u001b[0m",
      "\u001b[1;31mValueError\u001b[0m: substring not found"
     ]
    }
   ],
   "source": [
    "print(texto.find('Pancho'))\n",
    "print(texto.index('Pancho'))"
   ]
  },
  {
   "cell_type": "markdown",
   "metadata": {},
   "source": [
    "find nos permite buscar en alguna posicion del texto en aprticular con dos argumentos mas:\n",
    "\n",
    "    texto.find(palabra,comienzo,fin)"
   ]
  },
  {
   "cell_type": "code",
   "execution_count": 9,
   "metadata": {},
   "outputs": [
    {
     "data": {
      "text/plain": [
       "8"
      ]
     },
     "execution_count": 9,
     "metadata": {},
     "output_type": "execute_result"
    }
   ],
   "source": [
    "texto.find('un',5,15)"
   ]
  },
  {
   "cell_type": "code",
   "execution_count": 10,
   "metadata": {},
   "outputs": [
    {
     "data": {
      "text/plain": [
       "-1"
      ]
     },
     "execution_count": 10,
     "metadata": {},
     "output_type": "execute_result"
    }
   ],
   "source": [
    "texto.find('un',15,25)"
   ]
  },
  {
   "cell_type": "markdown",
   "metadata": {},
   "source": [
    "### replace\n",
    "replace es un metodo qe sirve para remplazar algo por otra cosa\n",
    "\n",
    "    texto.replace('algo','otra cosa')"
   ]
  },
  {
   "cell_type": "code",
   "execution_count": 25,
   "metadata": {},
   "outputs": [
    {
     "name": "stdout",
     "output_type": "stream",
     "text": [
      "Esto es un texto cualquiera para ver cómo funciona find, index y split en los strings\n",
      "Esto es un texto de ejemplo para ver cómo funciona find, index y split en los strings\n",
      "Esto es un texto cualquiera para ver cómo funciona find, index y split en los strings\n"
     ]
    }
   ],
   "source": [
    "print(texto)\n",
    "print(texto.replace('cualquiera','de ejemplo')) # replace no reescribe la variable texto\n",
    "print(texto)"
   ]
  },
  {
   "cell_type": "markdown",
   "metadata": {},
   "source": [
    "### Split\n",
    "Split separa un string y convierte las partes en elementos de una lista. Split tiene como argumento el caracter que se quiera usar para separar el string. Por defecto el separador es un espacio"
   ]
  },
  {
   "cell_type": "code",
   "execution_count": 27,
   "metadata": {},
   "outputs": [
    {
     "name": "stdout",
     "output_type": "stream",
     "text": [
      "['Francisco', 'Iaconis']\n"
     ]
    }
   ],
   "source": [
    "nombre_completo = 'Francisco Iaconis'\n",
    "nombre_split = nombre_completo.split()\n",
    "print(nombre_split)"
   ]
  },
  {
   "cell_type": "code",
   "execution_count": 29,
   "metadata": {},
   "outputs": [
    {
     "name": "stdout",
     "output_type": "stream",
     "text": [
      "['Este', 'es', 'otro', 'texto', 'separado', 'por', 'guiones']\n"
     ]
    }
   ],
   "source": [
    "texto2 = 'Este-es-otro-texto-separado-por-guiones'\n",
    "texto2_split = texto2.split('-')\n",
    "print(texto2_split)"
   ]
  },
  {
   "cell_type": "markdown",
   "metadata": {},
   "source": [
    "### slicing.\n",
    "Podemos partir, o cortar, un string de muchas maneras. Si queremos podemos convertir un string en una lista de caracteres simplemente usando list(texto)"
   ]
  },
  {
   "cell_type": "code",
   "execution_count": 32,
   "metadata": {},
   "outputs": [
    {
     "name": "stdout",
     "output_type": "stream",
     "text": [
      "['E', 's', 't', 'o', ' ', 'e', 's', ' ', 'u', 'n', ' ', 't', 'e', 'x', 't', 'o', ' ', 'c', 'u', 'a', 'l', 'q', 'u', 'i', 'e', 'r', 'a', ' ', 'p', 'a', 'r', 'a', ' ', 'v', 'e', 'r', ' ', 'c', 'ó', 'm', 'o', ' ', 'f', 'u', 'n', 'c', 'i', 'o', 'n', 'a', ' ', 'f', 'i', 'n', 'd', ',', ' ', 'i', 'n', 'd', 'e', 'x', ' ', 'y', ' ', 's', 'p', 'l', 'i', 't', ' ', 'e', 'n', ' ', 'l', 'o', 's', ' ', 's', 't', 'r', 'i', 'n', 'g', 's']\n"
     ]
    }
   ],
   "source": [
    "texto_lista = list(texto)\n",
    "print(texto_lista)"
   ]
  },
  {
   "cell_type": "markdown",
   "metadata": {},
   "source": [
    "También podemos tratar al texto como si fuera una lista para quedarnos con una parte del mismo"
   ]
  },
  {
   "cell_type": "code",
   "execution_count": 40,
   "metadata": {},
   "outputs": [
    {
     "data": {
      "text/plain": [
       "'cualquiera'"
      ]
     },
     "execution_count": 40,
     "metadata": {},
     "output_type": "execute_result"
    }
   ],
   "source": [
    "texto[17:27]"
   ]
  },
  {
   "cell_type": "markdown",
   "metadata": {},
   "source": [
    "Y si queremos recorrer el texto en sentido de derecha a izquierda:"
   ]
  },
  {
   "cell_type": "code",
   "execution_count": 47,
   "metadata": {},
   "outputs": [
    {
     "data": {
      "text/plain": [
       "'areiuqlauc'"
      ]
     },
     "execution_count": 47,
     "metadata": {},
     "output_type": "execute_result"
    }
   ],
   "source": [
    "texto[26:16:-1]"
   ]
  },
  {
   "cell_type": "markdown",
   "metadata": {},
   "source": [
    "### Join\n",
    "join es un metodo para unir elementos de una lista para comvertir un string con conectores especificos\n",
    "\n",
    "    \"caracter de unificacion\".join(lista_texto)"
   ]
  },
  {
   "cell_type": "code",
   "execution_count": 51,
   "metadata": {},
   "outputs": [
    {
     "name": "stdout",
     "output_type": "stream",
     "text": [
      "Esto es un texto cualquiera para ver cómo funciona find, index y split en los strings\n",
      "['Esto', 'es', 'un', 'texto', 'cualquiera', 'para', 'ver', 'cómo', 'funciona', 'find,', 'index', 'y', 'split', 'en', 'los', 'strings']\n",
      "Esto-es-un-texto-cualquiera-para-ver-cómo-funciona-find,-index-y-split-en-los-strings\n"
     ]
    }
   ],
   "source": [
    "print(texto)\n",
    "lista_texto = texto.split()\n",
    "print(lista_texto)\n",
    "join_texto = '-'.join(lista_texto)\n",
    "print(join_texto)"
   ]
  },
  {
   "cell_type": "markdown",
   "metadata": {},
   "source": [
    "### Algunos ejercicios con strings\n",
    "1. Hacer un código que le ponga mayúsculas a las primeras letras de cada palabra en un texto usando funciones hechas por ustedes y el método upper(). No utilizar el metodo title()\n",
    "2. Hacer un codigo que cambie todas las letras \"a\" y \"o\" que estan al final de una palabra por un \"@\" o una \"e\", o una \"x\" o cualquier caracter que no los ofenda (Sí, van a haber **algunas** palabras que van a dejar de tener sentido, no se enojen al pedo). \n",
    "3. Hacer un texto y luego hacer una lista de esas palabras ordenadas alfabeticamente\n",
    "4. Hacer un codigo que invierta todas las palabras pero que el orden de las mismas quede igual. Ejemplo:\n",
    "texto = \"Esto es un texto cualquiera para ver cómo funciona find, index y split en los strings\"\n",
    "texto_invertido = \"otsE se nu otxet areiuqlauc arap rev omóc anoicnuf ,dnif xedni y tilps ne sol sgnirts\""
   ]
  },
  {
   "cell_type": "markdown",
   "metadata": {},
   "source": [
    "## Funciones\n",
    "Hoy vamos a ver funciones en python. Las funciones son pedazos de codigo que se ejecutan enteros cuando se la menciona. La ventaja de esto es que hay veces que a lo largo de un algoritmo tenemos que realizar muchas veces la misma actividad en momentos diferentes. Es decir, casos donde no podemos usar un ciclo while o for. Hacer esto nos ahorra copiar y pegar código muchas veces, pero para mi la mejor ventaja es poder hacer mas legible el código. \n",
    "Empecemos por algo simple. Hagamos una función que invierta palabras."
   ]
  },
  {
   "cell_type": "code",
   "execution_count": 2,
   "metadata": {},
   "outputs": [
    {
     "name": "stdout",
     "output_type": "stream",
     "text": [
      "Python nohtyP\n"
     ]
    }
   ],
   "source": [
    "def inv_palabras(palabra):\n",
    "    inv_pal = palabra[::-1]\n",
    "    return(inv_pal)\n",
    "\n",
    "word = 'Python'\n",
    "drow = inv_palabras(word)\n",
    "print(word, drow)"
   ]
  },
  {
   "cell_type": "code",
   "execution_count": 6,
   "metadata": {},
   "outputs": [
    {
     "data": {
      "text/plain": [
       "'Python'"
      ]
     },
     "execution_count": 6,
     "metadata": {},
     "output_type": "execute_result"
    }
   ],
   "source": [
    "word"
   ]
  },
  {
   "cell_type": "code",
   "execution_count": 5,
   "metadata": {},
   "outputs": [],
   "source": [
    "nueva_vartiable = inv_palabras('Pancho')"
   ]
  },
  {
   "cell_type": "markdown",
   "metadata": {},
   "source": [
    "y ahora si queremos invertir todas las palabras de un texto podemos reciclar este código que convertimos en función."
   ]
  },
  {
   "cell_type": "code",
   "execution_count": 60,
   "metadata": {},
   "outputs": [
    {
     "name": "stdout",
     "output_type": "stream",
     "text": [
      "Esto es un texto cualquiera para ver cómo funciona find, index y split en los strings\n",
      "otsE se nu otxet areiuqlauc arap rev omóc anoicnuf ,dnif xedni y tilps ne sol sgnirts\n"
     ]
    }
   ],
   "source": [
    "lista_texto = texto.split()\n",
    "lista_texto_inv = []\n",
    "\n",
    "for w in lista_texto:\n",
    "    drow = inv_palabras(w)\n",
    "    lista_texto_inv.append(drow)\n",
    "\n",
    "otxet = ' '.join(lista_texto_inv)\n",
    "print(texto)\n",
    "print(otxet)"
   ]
  },
  {
   "cell_type": "markdown",
   "metadata": {},
   "source": [
    "Las funciones se *def*inen como:\n",
    "\n",
    "    def nombre_funcion(argumento1,argumento2):\n",
    "        codigo\n",
    "        mas codigo\n",
    "        return(nombre_variable/s)\n",
    "\n",
    "Veamos ejemplos mas sencillos. Hagamos una funcion que sume dos numeros"
   ]
  },
  {
   "cell_type": "code",
   "execution_count": 62,
   "metadata": {},
   "outputs": [
    {
     "name": "stdout",
     "output_type": "stream",
     "text": [
      "11\n"
     ]
    }
   ],
   "source": [
    "def suma(a,b):\n",
    "    sol = a + b\n",
    "    return sol\n",
    "\n",
    "res_func = suma(5,6)\n",
    "print(res_func)"
   ]
  },
  {
   "cell_type": "markdown",
   "metadata": {},
   "source": [
    "Las funciones pueden hacer varias cosas y retornar varios resultados a la vez:"
   ]
  },
  {
   "cell_type": "code",
   "execution_count": 64,
   "metadata": {},
   "outputs": [
    {
     "name": "stdout",
     "output_type": "stream",
     "text": [
      "summa = 11, resta = -1\n"
     ]
    }
   ],
   "source": [
    "def sum_res (a,b): # a y b son parametros de la funcion\n",
    "    s = a+b\n",
    "    r = a-b\n",
    "    return(s,r)\n",
    "\n",
    "suma,resta = sum_res(5,6) # 5 y 6 son los argumentos de la funcion\n",
    "print(f'suma = {suma}, resta = {resta}')\n",
    "    "
   ]
  },
  {
   "cell_type": "markdown",
   "metadata": {},
   "source": [
    "Hay veces que no sabemos cuantos argumentos podemos mandar a una funcion. Por ejemplo supongamos que no sabemos cuantos numeros vamos a sumar. Para esto usamos los argumentos arbitrarios señalandolos con un asterisco:"
   ]
  },
  {
   "cell_type": "code",
   "execution_count": 67,
   "metadata": {},
   "outputs": [
    {
     "name": "stdout",
     "output_type": "stream",
     "text": [
      "21\n"
     ]
    }
   ],
   "source": [
    "def suma(*a):\n",
    "    suma = 0\n",
    "    for num in a:\n",
    "        suma = suma + num\n",
    "    return(suma)\n",
    "suma_tot = (suma(1,2,3,4,5,6))\n",
    "print(suma_tot)"
   ]
  },
  {
   "cell_type": "markdown",
   "metadata": {},
   "source": [
    "Esto se podria entender como si los argumentos se pasaran a la funcion como una \"lista\" ( en verdad se llama tupla, un tipo de variable que todavia no vimos, pero que se puede entender como una lista que no se puede modificar) de elementos.\n",
    "También se pueden poner argumentos optativos o reseteados:"
   ]
  },
  {
   "cell_type": "code",
   "execution_count": 82,
   "metadata": {},
   "outputs": [
    {
     "data": {
      "text/plain": [
       "18"
      ]
     },
     "execution_count": 82,
     "metadata": {},
     "output_type": "execute_result"
    }
   ],
   "source": [
    "def sum_prod(*a,b = 1):\n",
    "    res = 0\n",
    "    for num in a:\n",
    "        res = res + num\n",
    "    res = b*res\n",
    "    return(res)\n",
    "\n",
    "print(sum_prod( 4,5,b = 2))"
   ]
  },
  {
   "cell_type": "code",
   "execution_count": 86,
   "metadata": {},
   "outputs": [
    {
     "name": "stdout",
     "output_type": "stream",
     "text": [
      "9\n"
     ]
    }
   ],
   "source": [
    "#El argumento b puede o no estar. Si no esta en los argumentos se le da el valor por defecto 1\n",
    "print(sum_prod(4,5)) "
   ]
  },
  {
   "cell_type": "markdown",
   "metadata": {},
   "source": [
    "### Problemas\n",
    "\n",
    "1. Hacer una funcion que pida al usuario tantos valores como el usuario quiera. Pueden hacer que cuando el usuario no introduzca nada la funcion termine de pedir valores.\n",
    "2. Hacer otra funcion que sume todos los valores en una lista sin importar el alrgo de la funcion.\n",
    "3. Hacer una funcion que tenga como argumento un string y un numero. La funcion tiene que devolver un string que repita el string del argumento tantas evces como el numero introducido. Ejemplo:\n",
    "    print(funcion('Hola, mundo!', 5)\n",
    "    > Hola, mundo!\n",
    "    > Hola, mundo!\n",
    "    > Hola, mundo!\n",
    "    > Hola, mundo!\n",
    "    > Hola, mundo!\n",
    "\n",
    "4. Repetir elproblema anterior pero que la salida sea:\n",
    "    > Hola, mundo!-Hola, mundo!-Hola, mundo!-Hola, mundo!-Hola, mundo!\n",
    "\n",
    "5. Hacer una funcion que separe el nombre un string por donde haya mayusculas. Por ejemplo:\n",
    "    string = 'FranciscoIaconis'\n",
    "    resultado = funcion(string)\n",
    "    print(resultado)\n",
    "    > Francisco Iaconis\n",
    "\n",
    "6. Hacer una función que resuelva una ecuacion cuadratica. Una ecuacion cuadratica es una ecuacion de este estilo: $ a*x^2+b*x+c = 0 $. La solucion esta dada por la ecuacion de Baskara que da dos resultados, uno o ninguno. \n",
    "\n",
    "$ x_1 = \\frac{-b + \\sqrt[2]{b^2-4*a*c}}{2*a} $\n",
    "$ x_2 = \\frac{-b - \\sqrt[2]{b^2-4*a*c}}{2*a} $\n",
    "\n",
    "Si $b^2-4*a*c = 0$, $x_1$ y $x_2$ son iguales y la función debería devolver un solo número. Si $b^2<4*a*c$ la función debera devolver una lista vacía. Y si $b^2>4*a*c$ la funcion deberá devolver una lista con dos valores $x_1$ y $x_2$\n",
    "\n",
    "7.Hacer una función que tenga como argumentos diferentes cantidades de strings y devuelva el número de string que se enviaron como argumentos y un string que sea la suma de todos los strings que se enviaron como argumento. Ejemplo:\n",
    "\n",
    "    str_total,num_str = funcion('Hola,',' mundo.','¿Cómo','andan?')\n",
    "    print(str_total)\n",
    "    print(num_str)\n",
    "    >'Hola, mundo,¿Cómo andan?'\n",
    "    > 4"
   ]
  },
  {
   "cell_type": "code",
   "execution_count": null,
   "metadata": {},
   "outputs": [],
   "source": []
  }
 ],
 "metadata": {
  "kernelspec": {
   "display_name": "Python 3",
   "language": "python",
   "name": "python3"
  },
  "language_info": {
   "codemirror_mode": {
    "name": "ipython",
    "version": 3
   },
   "file_extension": ".py",
   "mimetype": "text/x-python",
   "name": "python",
   "nbconvert_exporter": "python",
   "pygments_lexer": "ipython3",
   "version": "3.8.4"
  }
 },
 "nbformat": 4,
 "nbformat_minor": 4
}
