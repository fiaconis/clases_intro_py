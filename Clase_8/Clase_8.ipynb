{
 "cells": [
  {
   "cell_type": "markdown",
   "metadata": {},
   "source": [
    "# Clase 8. try, except y repaso\n",
    "\n",
    "En esta clase vamos a ver un tema corto, pero importante. El resto de la clase fue de consulta.\n",
    "El tema en cuestion es manejo de errores. Cuando escribimos un codigo muchas veces cometemos algun error como por ejemplo utilizar funciones propias de listas aplicadas a un int, o utilizar una variable habiendonos olvidado de definirla. Para muchos de los errores (por no decir absolutamente todos) python tiene un nombre que los describe. En la tabla de abajo listo algunos de los errores mas tipicos, con una descripcion y un ejemplo de dichos errores.\n",
    "\n",
    "|Exception| Descripción|Ejemplo|\n",
    "|---------|------------|-------|\n",
    "|IndexError| Cuando le damos un indice incorrecto para acceder a en una lista| Lista = ['a','b']<br> lista[4]\n",
    "|AtributeError| Cuando utilizamos un metodo en un tipo de datos inadecuado| x = 10 <br> x.append(6)\n",
    "|NameError| Cuando llamamos a una funcion que no fue definida |x = 10 <br> print(z)\n",
    "|TypeError| Cuando aplicamos una funcion u operacion que no esta definida para ese tipo de datos| str1 = 'hola' <br> str1-5\n",
    "\n",
    "Los errores hacen que el enano de python que vive en sus compus diga \"Che, aca hay un error, no tengo idea como seguir, asi que aca me rompo y no laburo mas\". Para que el enano siga trabajando le podemos decir que pruebe de ejecutar unas lineas de codigo. Si no hay error genial, pero si encuentra un error le podemos indicar que hacer si encuentra un error. Le podemos decir que hacer si encuentra cualquier tipo de error o podemos indicarle que hacer si encuentra determinados errores como los listados arriba.\n",
    "Para indicarle al enano que pruebe de ejecutar unas lineas de codigo vamos a usar \"try\" (try se puede traducir como \"proba\". y para decirle que si encuentra un error ejecute otras lineas de codigo utilizamos \"except\". Este except puede ponerse solo o indicar el tipo de error que tiene que suceder para ejecutar lo de abajo.\n",
    "Probemos de hacer un ejemplo. Pidamosle a un usuario que introduzca su edad y restemosle 10 para saber que edad tenia hace 10 años."
   ]
  },
  {
   "cell_type": "code",
   "execution_count": 8,
   "metadata": {},
   "outputs": [
    {
     "name": "stdout",
     "output_type": "stream",
     "text": [
      "Ingrese su edad: 36\n"
     ]
    },
    {
     "ename": "TypeError",
     "evalue": "unsupported operand type(s) for -: 'str' and 'int'",
     "output_type": "error",
     "traceback": [
      "\u001b[1;31m---------------------------------------------------------------------------\u001b[0m",
      "\u001b[1;31mTypeError\u001b[0m                                 Traceback (most recent call last)",
      "\u001b[1;32m<ipython-input-8-2c12542cd83b>\u001b[0m in \u001b[0;36m<module>\u001b[1;34m\u001b[0m\n\u001b[0;32m      1\u001b[0m \u001b[0mentrada\u001b[0m \u001b[1;33m=\u001b[0m \u001b[0minput\u001b[0m\u001b[1;33m(\u001b[0m\u001b[1;34m'Ingrese su edad: '\u001b[0m\u001b[1;33m)\u001b[0m\u001b[1;33m\u001b[0m\u001b[1;33m\u001b[0m\u001b[0m\n\u001b[1;32m----> 2\u001b[1;33m \u001b[0mprueba\u001b[0m \u001b[1;33m=\u001b[0m \u001b[0mentrada\u001b[0m \u001b[1;33m-\u001b[0m \u001b[1;36m5\u001b[0m\u001b[1;33m\u001b[0m\u001b[1;33m\u001b[0m\u001b[0m\n\u001b[0m\u001b[0;32m      3\u001b[0m \u001b[0mprint\u001b[0m\u001b[1;33m(\u001b[0m\u001b[0mprueba\u001b[0m\u001b[1;33m)\u001b[0m\u001b[1;33m\u001b[0m\u001b[1;33m\u001b[0m\u001b[0m\n",
      "\u001b[1;31mTypeError\u001b[0m: unsupported operand type(s) for -: 'str' and 'int'"
     ]
    }
   ],
   "source": [
    "entrada = input('Ingrese su edad: ')\n",
    "prueba = entrada - 10 # Al no convertir el input en un float o int va a\n",
    "                      # saltar un error por no estar definida la resta entre un string y un int\n",
    "print(prueba)"
   ]
  },
  {
   "cell_type": "markdown",
   "metadata": {},
   "source": [
    "Para evitar que python deje de trabajar podemos usar try-except:"
   ]
  },
  {
   "cell_type": "code",
   "execution_count": 9,
   "metadata": {},
   "outputs": [
    {
     "name": "stdout",
     "output_type": "stream",
     "text": [
      "Ingrese su edad: 36\n",
      "26.0\n"
     ]
    }
   ],
   "source": [
    "entrada = input('Ingrese su edad: ') # Esta linea se va a ejecutar siempre\n",
    "try: # A partir de aca  python va a probar si el codigo tiene errores o no\n",
    "    prueba = entrada - 10 # Esto va a provocar un error ya que el input  \n",
    "                         # es un string y la resta no esta definida para los strings\n",
    "except: #Aca vamos a poner lo que va a hacer python si en el bloque de try hubo algun error\n",
    "    entrada = float(entrada)\n",
    "    prueba = entrada - 10\n",
    "\n",
    "print(prueba)\n",
    "          "
   ]
  },
  {
   "cell_type": "markdown",
   "metadata": {},
   "source": [
    "Si queremos ejecutar un bloque de codigo solo si ocurrio un tio de error podemos especificar a la derecha de except el tipo de error"
   ]
  },
  {
   "cell_type": "code",
   "execution_count": 13,
   "metadata": {},
   "outputs": [
    {
     "name": "stdout",
     "output_type": "stream",
     "text": [
      "ingresa un numero: jgf\n",
      "Ingresaste un str en vez de un numero\n",
      "esto se ejecuta haya habido un error o no\n"
     ]
    }
   ],
   "source": [
    "try:\n",
    "    num = input('ingresa un numero: ')\n",
    "    num = float(num)\n",
    "    print(num)\n",
    "except ValueError:\n",
    "    print('Ingresaste un str en vez de un numero')\n",
    "except:\n",
    "    print('Ocurrio un tipo de error inesperado')\n",
    "else:\n",
    "    print('El try se ejecuto sin problemas')\n",
    "\n",
    "print('esto se ejecuta haya habido un error o no')"
   ]
  },
  {
   "cell_type": "code",
   "execution_count": 21,
   "metadata": {},
   "outputs": [
    {
     "ename": "ValueError",
     "evalue": "could not convert string to float: 'Zoqueta'",
     "output_type": "error",
     "traceback": [
      "\u001b[1;31m---------------------------------------------------------------------------\u001b[0m",
      "\u001b[1;31mValueError\u001b[0m                                Traceback (most recent call last)",
      "\u001b[1;32m<ipython-input-21-a863f83bddd7>\u001b[0m in \u001b[0;36m<module>\u001b[1;34m\u001b[0m\n\u001b[1;32m----> 1\u001b[1;33m \u001b[0mfloat\u001b[0m\u001b[1;33m(\u001b[0m\u001b[0mnum\u001b[0m\u001b[1;33m)\u001b[0m\u001b[1;33m\u001b[0m\u001b[1;33m\u001b[0m\u001b[0m\n\u001b[0m",
      "\u001b[1;31mValueError\u001b[0m: could not convert string to float: 'Zoqueta'"
     ]
    }
   ],
   "source": [
    "num = 'texto'\n",
    "float(num) # Esto es un error \"ValueError\" "
   ]
  },
  {
   "cell_type": "code",
   "execution_count": 13,
   "metadata": {},
   "outputs": [
    {
     "ename": "NameError",
     "evalue": "name 'otra_variable' is not defined",
     "output_type": "error",
     "traceback": [
      "\u001b[1;31m---------------------------------------------------------------------------\u001b[0m",
      "\u001b[1;31mNameError\u001b[0m                                 Traceback (most recent call last)",
      "\u001b[1;32m<ipython-input-13-06130f93eb8a>\u001b[0m in \u001b[0;36m<module>\u001b[1;34m\u001b[0m\n\u001b[1;32m----> 1\u001b[1;33m \u001b[0mprint\u001b[0m\u001b[1;33m(\u001b[0m\u001b[0motra_variable\u001b[0m\u001b[1;33m)\u001b[0m\u001b[1;33m\u001b[0m\u001b[1;33m\u001b[0m\u001b[0m\n\u001b[0m",
      "\u001b[1;31mNameError\u001b[0m: name 'otra_variable' is not defined"
     ]
    }
   ],
   "source": [
    "print(otra_variable) # Esto es NameError ya que la variable con ese nombre nunca la definimos"
   ]
  },
  {
   "cell_type": "code",
   "execution_count": 14,
   "metadata": {},
   "outputs": [
    {
     "ename": "TypeError",
     "evalue": "unsupported operand type(s) for -: 'str' and 'str'",
     "output_type": "error",
     "traceback": [
      "\u001b[1;31m---------------------------------------------------------------------------\u001b[0m",
      "\u001b[1;31mTypeError\u001b[0m                                 Traceback (most recent call last)",
      "\u001b[1;32m<ipython-input-14-852f0b754bd7>\u001b[0m in \u001b[0;36m<module>\u001b[1;34m\u001b[0m\n\u001b[0;32m      1\u001b[0m \u001b[0mstr1\u001b[0m \u001b[1;33m=\u001b[0m \u001b[1;34m'perro'\u001b[0m\u001b[1;33m\u001b[0m\u001b[1;33m\u001b[0m\u001b[0m\n\u001b[0;32m      2\u001b[0m \u001b[0mstr2\u001b[0m \u001b[1;33m=\u001b[0m \u001b[1;34m'gato'\u001b[0m\u001b[1;33m\u001b[0m\u001b[1;33m\u001b[0m\u001b[0m\n\u001b[1;32m----> 3\u001b[1;33m \u001b[0mstr1\u001b[0m \u001b[1;33m-\u001b[0m \u001b[0mstr2\u001b[0m\u001b[1;33m\u001b[0m\u001b[1;33m\u001b[0m\u001b[0m\n\u001b[0m",
      "\u001b[1;31mTypeError\u001b[0m: unsupported operand type(s) for -: 'str' and 'str'"
     ]
    }
   ],
   "source": [
    "str1 = 'perro'\n",
    "str2 = 'gato'\n",
    "str1 - str2 #Esto es un TypeError porque la resta no esta definida para el tipo de dato string"
   ]
  },
  {
   "cell_type": "code",
   "execution_count": null,
   "metadata": {},
   "outputs": [],
   "source": []
  }
 ],
 "metadata": {
  "kernelspec": {
   "display_name": "Python 3",
   "language": "python",
   "name": "python3"
  },
  "language_info": {
   "codemirror_mode": {
    "name": "ipython",
    "version": 3
   },
   "file_extension": ".py",
   "mimetype": "text/x-python",
   "name": "python",
   "nbconvert_exporter": "python",
   "pygments_lexer": "ipython3",
   "version": "3.8.4"
  }
 },
 "nbformat": 4,
 "nbformat_minor": 4
}
